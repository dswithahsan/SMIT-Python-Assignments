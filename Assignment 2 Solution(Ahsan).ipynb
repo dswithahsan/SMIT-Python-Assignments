{
 "cells": [
  {
   "cell_type": "markdown",
   "id": "d3a4145b",
   "metadata": {},
   "source": [
    "### 1. Area of a Rectangle\n",
    "\n",
    "Write a Python program to calculate the area of a rectangle. Use the formula:\n",
    "\n",
    "`Area = length × width`\n",
    "\n",
    "Take `length` and `width` as inputs from the user."
   ]
  },
  {
   "cell_type": "code",
   "execution_count": 38,
   "id": "a1a9ccc6",
   "metadata": {},
   "outputs": [
    {
     "name": "stdin",
     "output_type": "stream",
     "text": [
      "Type length of Reactangle in cm 5\n",
      "Type width of Reactangle in cm 5\n"
     ]
    },
    {
     "name": "stdout",
     "output_type": "stream",
     "text": [
      "25.0 cm^2\n"
     ]
    }
   ],
   "source": [
    "# Solution\n",
    "length = float(input(\"Type length of Reactangle in cm\"))\n",
    "width=float(input(\"Type width of Reactangle in cm\"))\n",
    "Area = length*width\n",
    "print(Area,\"cm^2\")\n"
   ]
  },
  {
   "cell_type": "markdown",
   "id": "1cbd05e4",
   "metadata": {},
   "source": [
    "### 2. Circumference of a Circle\n",
    "\n",
    "Write a Python program to calculate the circumference of a circle. Use the formula:\n",
    "\n",
    "`Circumference = 2πr`\n",
    "\n",
    "Take the radius `r` as input from the user."
   ]
  },
  {
   "cell_type": "code",
   "execution_count": 22,
   "id": "8dd576bf",
   "metadata": {},
   "outputs": [
    {
     "name": "stdin",
     "output_type": "stream",
     "text": [
      "Write the radius of a cicle in cm 5\n"
     ]
    },
    {
     "name": "stdout",
     "output_type": "stream",
     "text": [
      "Circumference = 31.42 cm\n"
     ]
    }
   ],
   "source": [
    "# Solution\n",
    "radius=float(input(\"Write the radius of a cicle in cm\"))\n",
    "circumference=2*3.142*radius\n",
    "print(\"Circumference =\",round(circumference,3) ,\"cm\")\n"
   ]
  },
  {
   "cell_type": "markdown",
   "id": "e76b5ddc",
   "metadata": {},
   "source": [
    "### 3. Simple Interest\n",
    "\n",
    "Write a Python program to calculate the simple interest. Use the formula:\n",
    "\n",
    "`Simple Interest = Principal × Rate × Time`\n",
    "\n",
    "Take `Principal`, `Rate`, and `Time` as inputs from the user."
   ]
  },
  {
   "cell_type": "code",
   "execution_count": 33,
   "id": "a6ae7e20",
   "metadata": {},
   "outputs": [
    {
     "name": "stdin",
     "output_type": "stream",
     "text": [
      "Type your Principal Amount 1000\n",
      "Type Rate of interest  10\n",
      "Type the Amount of Time you invested 1\n"
     ]
    },
    {
     "name": "stdout",
     "output_type": "stream",
     "text": [
      "Simple Interest = Rs 10000.0\n"
     ]
    }
   ],
   "source": [
    "# Solution\n",
    "Principal=float(input(\"Type your Principal Amount\"))\n",
    "Rate=float(input(\"Type Rate of interest \"))\n",
    "Time=float(input(\"Type the Amount of Time you invested\"))\n",
    "Simple_Interest = Principal*Rate*Time\n",
    "print(\"Simple Interest = Rs\", Simple_Interest)"
   ]
  },
  {
   "cell_type": "markdown",
   "id": "3f9b91dc",
   "metadata": {},
   "source": [
    "### 4. Speed of an Object\n",
    "\n",
    "Write a Python program to calculate the speed of an object. Use the formula:\n",
    "\n",
    "`Speed = Distance / Time`\n",
    "\n",
    "Take `Distance` and `Time` as inputs from the user."
   ]
  },
  {
   "cell_type": "code",
   "execution_count": null,
   "id": "34db6555",
   "metadata": {},
   "outputs": [],
   "source": [
    "# Solution\n",
    "distance = float(input(\"Enter the distance covered (in meters): \"))\n",
    "time = float(input(\"Enter the time taken (in seconds): \"))\n",
    "speed = distance / time\n",
    "print(f\"The speed of the object is: {speed:.2f} m/s\")\n",
    "\n"
   ]
  },
  {
   "cell_type": "markdown",
   "id": "2b4861a1",
   "metadata": {},
   "source": [
    "### 5. BMI Calculator\n",
    "\n",
    "Write a Python program to calculate the Body Mass Index (BMI). Use the formula:\n",
    "\n",
    "`BMI = Weight (kg) / (Height (m))²`\n",
    "\n",
    "Take `Weight` (in kilograms) and `Height` (in meters) as inputs from the user."
   ]
  },
  {
   "cell_type": "code",
   "execution_count": null,
   "id": "b47ee969",
   "metadata": {},
   "outputs": [],
   "source": [
    "# Solution\n",
    "weight = float(input(\"Enter your weight (in kg): \"))\n",
    "height = float(input(\"Enter your height (in meters): \"))\n",
    "bmi = weight / (height ** 2)\n",
    "print(f\"Your BMI is: {bmi:.2f}\")\n",
    "\n"
   ]
  },
  {
   "cell_type": "markdown",
   "id": "4686cd14",
   "metadata": {},
   "source": [
    "### 6. Force Using Newton's Second Law\n",
    "\n",
    "Write a Python program to calculate the force on an object. Use the formula:\n",
    "\n",
    "`Force = Mass × Acceleration`\n",
    "\n",
    "Take `Mass` (in kilograms) and `Acceleration` (in meters/second²) as inputs from the user."
   ]
  },
  {
   "cell_type": "code",
   "execution_count": null,
   "id": "987bab30",
   "metadata": {},
   "outputs": [],
   "source": [
    "# Solution\n",
    "mass = float(input(\"Enter the mass of the object (in kg): \"))\n",
    "acceleration = float(input(\"Enter the acceleration (in m/s²): \"))\n",
    "force = mass * acceleration\n",
    "print(f\"The force on the object is: {force:.2f} N\")\n",
    "\n"
   ]
  },
  {
   "cell_type": "markdown",
   "id": "a73e99ca",
   "metadata": {},
   "source": [
    "### 7. Compound Interest\n",
    "\n",
    "Write a Python program to calculate compound interest. Use the formula:\n",
    "\n",
    "`A = P (1 + r/n)^(n*t)`\n",
    "\n",
    "Where:\n",
    "- A = total amount\n",
    "- P = principal amount\n",
    "- r = annual interest rate (decimal)\n",
    "- n = number of times interest is compounded per year\n",
    "- t = time in years\n",
    "\n",
    "Take `P`, `r`, `n`, and `t` as inputs from the user."
   ]
  },
  {
   "cell_type": "code",
   "execution_count": 59,
   "id": "6aea1016",
   "metadata": {},
   "outputs": [
    {
     "name": "stdin",
     "output_type": "stream",
     "text": [
      "Type your Principal Amount 5000\n",
      "Type Rate of interest Anually (in%)  34\n",
      "Type for how many years you invested 1\n",
      "How many times interest compounded Anually 1\n"
     ]
    },
    {
     "name": "stdout",
     "output_type": "stream",
     "text": [
      "The Total amount in 1.0 years with 34.0 % of Annaual Interest is Rs 6700.00\n"
     ]
    }
   ],
   "source": [
    "# Solution\n",
    "# Solution\n",
    "principal=float(input(\"Type your Principal Amount\"))\n",
    "Rate=float(input(\"Type Rate of interest Anually (in%) \"))/100  #in decimal\n",
    "Time=float(input(\"Type for how many years you invested\"))\n",
    "n=float(input(\"How many times interest compounded Anually\"))\n",
    "Total_Amount = principal*(1+(Rate/n))**(n*Time)\n",
    "print(f\"The Total amount in {Time} years with {Rate*100} % of Annaual Interest is Rs {Total_Amount:.2f}\")\n"
   ]
  },
  {
   "cell_type": "markdown",
   "id": "e221c48f",
   "metadata": {},
   "source": [
    "### 8. Perimeter of a Triangle\n",
    "\n",
    "Write a Python program to calculate the perimeter of a triangle. Use the formula:\n",
    "\n",
    "`Perimeter = a + b + c`\n",
    "\n",
    "Take `a`, `b`, and `c` (lengths of the three sides) as inputs from the user."
   ]
  },
  {
   "cell_type": "code",
   "execution_count": 61,
   "id": "6b549312",
   "metadata": {},
   "outputs": [
    {
     "name": "stdin",
     "output_type": "stream",
     "text": [
      "Enter the length of side a:  1\n",
      "Enter the length of side b:  1\n",
      "Enter the length of side c:  1\n"
     ]
    },
    {
     "name": "stdout",
     "output_type": "stream",
     "text": [
      "The perimeter of the triangle is: 3.00\n"
     ]
    }
   ],
   "source": [
    "# Solution\n",
    "a = float(input(\"Enter the length of side a: \"))\n",
    "b = float(input(\"Enter the length of side b: \"))\n",
    "c = float(input(\"Enter the length of side c: \"))\n",
    "perimeter = a + b + c\n",
    "print(f\"The perimeter of the triangle is: {perimeter:.2f}\")\n",
    "\n"
   ]
  },
  {
   "cell_type": "markdown",
   "id": "5054a783",
   "metadata": {},
   "source": [
    "### 9. Volume of a Sphere\n",
    "\n",
    "Write a Python program to calculate the volume of a sphere. Use the formula:\n",
    "\n",
    "`Volume = (4/3)πr³`\n",
    "\n",
    "Take `r` (radius) as input from the user."
   ]
  },
  {
   "cell_type": "code",
   "execution_count": 63,
   "id": "ca9acedb",
   "metadata": {},
   "outputs": [
    {
     "name": "stdin",
     "output_type": "stream",
     "text": [
      "Enter the radius of the sphere (in cm):  15\n"
     ]
    },
    {
     "name": "stdout",
     "output_type": "stream",
     "text": [
      "The volume of the sphere is: 14139.000 cm³\n"
     ]
    }
   ],
   "source": [
    "# Solution\n",
    "radius = float(input(\"Enter the radius of the sphere (in cm): \"))\n",
    "volume = (4 / 3) * 3.142 * (radius ** 3)\n",
    "print(f\"The volume of the sphere is: {volume:.3f} cm³\")\n",
    "\n"
   ]
  },
  {
   "cell_type": "markdown",
   "id": "841c15de",
   "metadata": {},
   "source": [
    "### 10. Kinetic Energy\n",
    "\n",
    "Write a Python program to calculate the kinetic energy of an object. Use the formula:\n",
    "\n",
    "`KE = (1/2)mv²`\n",
    "\n",
    "Take `Mass` (in kilograms) and `Velocity` (in meters/second) as inputs from the user."
   ]
  },
  {
   "cell_type": "code",
   "execution_count": 65,
   "id": "af817ee8",
   "metadata": {},
   "outputs": [
    {
     "name": "stdin",
     "output_type": "stream",
     "text": [
      "Enter the mass of the object (in kg):  12\n",
      "Enter the velocity of the object (in m/s):  20\n"
     ]
    },
    {
     "name": "stdout",
     "output_type": "stream",
     "text": [
      "The kinetic energy of the object is: 2400.00 J\n"
     ]
    }
   ],
   "source": [
    "# Solution\n",
    "mass = float(input(\"Enter the mass of the object (in kg): \"))\n",
    "velocity = float(input(\"Enter the velocity of the object (in m/s): \"))\n",
    "kinetic_energy = 0.5 * mass * (velocity ** 2)\n",
    "print(f\"The kinetic energy of the object is: {kinetic_energy:.2f} J\")\n",
    "\n"
   ]
  },
  {
   "cell_type": "markdown",
   "id": "a3a899ee",
   "metadata": {},
   "source": [
    "### 11. Quadratic Equation Roots\n",
    "\n",
    "Write a Python program to find the roots of a quadratic equation. Use the formula:\n",
    "\n",
    "`X = (-b ± √(b² - 4ac)) / 2a`\n",
    "\n",
    "Take `a`, `b`, and `c` as inputs from the user."
   ]
  },
  {
   "cell_type": "code",
   "execution_count": 87,
   "id": "131cbfa5",
   "metadata": {},
   "outputs": [
    {
     "name": "stdin",
     "output_type": "stream",
     "text": [
      "Write down the Coeffient of x^2 4\n",
      "Write down the Coeffient of x 2\n",
      "Write down the Constant  term  6\n"
     ]
    },
    {
     "name": "stdout",
     "output_type": "stream",
     "text": [
      " There are Two Roots of the Quadratic equation 4x^2 + 2x + 6 = 0  which is -4.00+19.18j and -4.00-19.18j\n"
     ]
    }
   ],
   "source": [
    "# Solution\n",
    "import cmath\n",
    "a=int(input(\"Write down the Coeffient of x^2\"))\n",
    "b=int(input(\"Write down the Coeffient of x\"))\n",
    "c=int(input(\"Write down the Constant  term \"))\n",
    "\n",
    "square = cmath.sqrt((b**2)-4*a*c)\n",
    "X1 = (-b + square)/2*a\n",
    "X2 = (-b - square)/2*a\n",
    "print(f\" There are Two Roots of the Quadratic equation {a}x^2 + {b}x + {c} = 0  which is {X1:.2f} and {X2:.2f}\")"
   ]
  },
  {
   "cell_type": "markdown",
   "id": "e57c74ab",
   "metadata": {},
   "source": [
    "### 12. Temperature Conversion\n",
    "\n",
    "Write a Python program to convert a temperature from Celsius to Fahrenheit. Use the formula:\n",
    "\n",
    "`F = (C × 9/5) + 32`\n",
    "\n",
    "Take `C` (temperature in Celsius) as input from the user."
   ]
  },
  {
   "cell_type": "code",
   "execution_count": 89,
   "id": "4179d582",
   "metadata": {},
   "outputs": [
    {
     "name": "stdin",
     "output_type": "stream",
     "text": [
      "Enter the temperature in Celsius:  30\n"
     ]
    },
    {
     "name": "stdout",
     "output_type": "stream",
     "text": [
      "The temperature in Fahrenheit is: 86.00\n"
     ]
    }
   ],
   "source": [
    "# Solution\n",
    "celsius = float(input(\"Enter the temperature in Celsius: \"))\n",
    "fahrenheit = (celsius * 9 / 5) + 32\n",
    "print(f\"The temperature in Fahrenheit is: {fahrenheit:.2f}\")\n",
    "\n"
   ]
  },
  {
   "cell_type": "markdown",
   "id": "9b261f56",
   "metadata": {},
   "source": [
    "### 13. Gravitational Force\n",
    "\n",
    "Write a Python program to calculate the gravitational force between two objects. Use the formula:\n",
    "\n",
    "`F = G(m₁ * m₂) / r²`\n",
    "\n",
    "Where:\n",
    "- G = gravitational constant\n",
    "- m₁, m₂ = masses of the objects\n",
    "- r = distance between their centers\n",
    "\n",
    "Take `m₁`, `m₂`, and `r` as inputs from the user."
   ]
  },
  {
   "cell_type": "code",
   "execution_count": 91,
   "id": "f7263375",
   "metadata": {},
   "outputs": [
    {
     "name": "stdin",
     "output_type": "stream",
     "text": [
      "Enter the mass of the first object (in kg):  20\n",
      "Enter the mass of the second object (in kg):  20\n",
      "Enter the distance between the objects (in meters):  220\n"
     ]
    },
    {
     "name": "stdout",
     "output_type": "stream",
     "text": [
      "The gravitational force between the objects is: 5.52e-13 N\n"
     ]
    }
   ],
   "source": [
    "# Solution\n",
    "G = 6.674 * (10 ** -11)\n",
    "m1 = float(input(\"Enter the mass of the first object (in kg): \"))\n",
    "m2 = float(input(\"Enter the mass of the second object (in kg): \"))\n",
    "r = float(input(\"Enter the distance between the objects (in meters): \"))\n",
    "force = G * (m1 * m2) / (r ** 2)\n",
    "print(f\"The gravitational force between the objects is: {force:.2e} N\")\n",
    "\n"
   ]
  },
  {
   "cell_type": "markdown",
   "id": "0576d93d",
   "metadata": {},
   "source": [
    "### 14. Volume of a Cylinder\n",
    "\n",
    "Write a Python program to calculate the volume of a cylinder. Use the formula:\n",
    "\n",
    "`Volume = πr²h`\n",
    "\n",
    "Take `r` (radius) and `h` (height) as inputs from the user."
   ]
  },
  {
   "cell_type": "code",
   "execution_count": 93,
   "id": "1e711352",
   "metadata": {},
   "outputs": [
    {
     "name": "stdin",
     "output_type": "stream",
     "text": [
      "Enter the radius of the cylinder (in cm):  2\n",
      "Enter the height of the cylinder (in cm):  2\n"
     ]
    },
    {
     "name": "stdout",
     "output_type": "stream",
     "text": [
      "The volume of the cylinder is: 25.14 cm³\n"
     ]
    }
   ],
   "source": [
    "# Solution\n",
    "radius = float(input(\"Enter the radius of the cylinder (in cm): \"))\n",
    "height = float(input(\"Enter the height of the cylinder (in cm): \"))\n",
    "volume = 3.142 * (radius ** 2) * height\n",
    "print(f\"The volume of the cylinder is: {volume:.2f} cm³\")\n",
    "\n"
   ]
  },
  {
   "cell_type": "markdown",
   "id": "4d5c8550",
   "metadata": {},
   "source": [
    "### 15. Pressure\n",
    "\n",
    "Write a Python program to calculate the pressure exerted by a force on a surface. Use the formula:\n",
    "\n",
    "`P = F / A`\n",
    "\n",
    "Take `F` (force) and `A` (area) as inputs from the user."
   ]
  },
  {
   "cell_type": "code",
   "execution_count": 95,
   "id": "045f2e92",
   "metadata": {},
   "outputs": [
    {
     "name": "stdin",
     "output_type": "stream",
     "text": [
      "Enter the force (in N):  2\n",
      "Enter the area (in m²):  2\n"
     ]
    },
    {
     "name": "stdout",
     "output_type": "stream",
     "text": [
      "The pressure is: 1.00 Pa\n"
     ]
    }
   ],
   "source": [
    "# Solution\n",
    "force = float(input(\"Enter the force (in N): \"))\n",
    "area = float(input(\"Enter the area (in m²): \"))\n",
    "pressure = force / area\n",
    "print(f\"The pressure is: {pressure:.2f} Pa\")\n",
    "\n"
   ]
  },
  {
   "cell_type": "markdown",
   "id": "6efc9e46",
   "metadata": {},
   "source": [
    "### 16. Electric Power\n",
    "\n",
    "Write a Python program to calculate the electric power consumed. Use the formula:\n",
    "\n",
    "`Power = Voltage × Current`\n",
    "\n",
    "Take `Voltage` and `Current` as inputs from the user."
   ]
  },
  {
   "cell_type": "code",
   "execution_count": 97,
   "id": "b8dfdba4",
   "metadata": {},
   "outputs": [
    {
     "name": "stdin",
     "output_type": "stream",
     "text": [
      "Enter the voltage (in volts):  5\n",
      "Enter the current (in amperes):  7\n"
     ]
    },
    {
     "name": "stdout",
     "output_type": "stream",
     "text": [
      "The electric power is: 35.00 W\n"
     ]
    }
   ],
   "source": [
    "# Solution\n",
    "voltage = float(input(\"Enter the voltage (in volts): \"))\n",
    "current = float(input(\"Enter the current (in amperes): \"))\n",
    "power = voltage * current\n",
    "print(f\"The electric power is: {power:.2f} W\")\n",
    "\n"
   ]
  },
  {
   "cell_type": "markdown",
   "id": "9767bc7c",
   "metadata": {},
   "source": [
    "### 17. Perimeter of a Circle (Circumference)\n",
    "\n",
    "Write a Python program to calculate the perimeter (circumference) of a circle. Use the formula:\n",
    "\n",
    "`Circumference = 2πr`\n",
    "\n",
    "Take `r` (radius) as input from the user."
   ]
  },
  {
   "cell_type": "code",
   "execution_count": 99,
   "id": "230f08e3",
   "metadata": {},
   "outputs": [
    {
     "name": "stdin",
     "output_type": "stream",
     "text": [
      "Enter the radius of the circle (in cm):  20\n"
     ]
    },
    {
     "name": "stdout",
     "output_type": "stream",
     "text": [
      "The circumference of the circle is: 125.680 cm\n"
     ]
    }
   ],
   "source": [
    "# Solution\n",
    "radius = float(input(\"Enter the radius of the circle (in cm): \"))\n",
    "circumference = 2 * 3.142 * radius\n",
    "print(f\"The circumference of the circle is: {circumference:.3f} cm\")\n",
    "\n"
   ]
  },
  {
   "cell_type": "markdown",
   "id": "d44822b2",
   "metadata": {},
   "source": [
    "### 18. Future Value in Savings\n",
    "\n",
    "Write a Python program to calculate the future value of an investment. Use the formula:\n",
    "\n",
    "`FV = PV(1 + r)^t`\n",
    "\n",
    "Where:\n",
    "- FV = future value\n",
    "- PV = present value\n",
    "- r = annual interest rate (decimal)\n",
    "- t = time in years\n",
    "\n",
    "Take `PV`, `r`, and `t` as inputs from the user."
   ]
  },
  {
   "cell_type": "code",
   "execution_count": 101,
   "id": "d733c671",
   "metadata": {},
   "outputs": [
    {
     "name": "stdin",
     "output_type": "stream",
     "text": [
      "Enter the present value of the investment:  4\n",
      "Enter the annual interest rate (in %):  4\n",
      "Enter the time (in years):  4\n"
     ]
    },
    {
     "name": "stdout",
     "output_type": "stream",
     "text": [
      "The future value of the investment is: 4.68\n"
     ]
    }
   ],
   "source": [
    "# Solution\n",
    "present_value = float(input(\"Enter the present value of the investment: \"))\n",
    "rate = float(input(\"Enter the annual interest rate (in %): \")) / 100\n",
    "time = float(input(\"Enter the time (in years): \"))\n",
    "future_value = present_value * ((1 + rate) ** time)\n",
    "print(f\"The future value of the investment is: {future_value:.2f}\")\n",
    "\n"
   ]
  },
  {
   "cell_type": "markdown",
   "id": "3a85bae8",
   "metadata": {},
   "source": [
    "### 19. Work Done by a Force\n",
    "\n",
    "Write a Python program to calculate the work done by a force. Use the formula:\n",
    "\n",
    "`W = F × d × cos(θ)`\n",
    "\n",
    "Where:\n",
    "- W = work done\n",
    "- F = force\n",
    "- d = distance\n",
    "- θ = angle between force and movement (degrees)\n",
    "\n",
    "Take `F`, `d`, and `θ` as inputs from the user."
   ]
  },
  {
   "cell_type": "code",
   "execution_count": 115,
   "id": "039f8b12",
   "metadata": {},
   "outputs": [
    {
     "name": "stdin",
     "output_type": "stream",
     "text": [
      "Amount of Force apply (in newton) 50\n",
      "The distance covered (in meters) 20\n",
      "The angle between Force and distance (in degree) 30\n"
     ]
    },
    {
     "name": "stdout",
     "output_type": "stream",
     "text": [
      "The amount of workdone occured is 866.03 Jooules \n"
     ]
    }
   ],
   "source": [
    "# Solution\n",
    "import math\n",
    "F=float(input(\"Amount of Force apply (in newton)\"))\n",
    "d=float(input(\"The distance covered (in meters)\"))\n",
    "theta= float(input(\"The angle between Force and distance (in degree)\"))\n",
    "Workdone = F*d*math.cos(theta*(math.pi/180))\n",
    "print(f\"The amount of workdone occured is {Workdone:.2f} Jooules \")"
   ]
  },
  {
   "cell_type": "markdown",
   "id": "6f7781c3",
   "metadata": {},
   "source": [
    "### 20. Heat Transfer\n",
    "\n",
    "Write a Python program to calculate the amount of heat transferred. Use the formula:\n",
    "\n",
    "`Q = mcΔT`\n",
    "\n",
    "Where:\n",
    "- Q = heat transfer\n",
    "- m = mass\n",
    "- c = specific heat capacity\n",
    "- ΔT = temperature change\n",
    "\n",
    "Take `m`, `c`, and `ΔT` as inputs from the user."
   ]
  },
  {
   "cell_type": "code",
   "execution_count": 119,
   "id": "6ab4f8d3",
   "metadata": {},
   "outputs": [
    {
     "name": "stdin",
     "output_type": "stream",
     "text": [
      "Enter the mass of the object (in kg):  12\n",
      "Enter the specific heat capacity (in J/kg°C):  2\n",
      "Enter the temperature change (in °C):  2\n"
     ]
    },
    {
     "name": "stdout",
     "output_type": "stream",
     "text": [
      "The heat transferred is: 48.00 J\n"
     ]
    }
   ],
   "source": [
    "# Solution\n",
    "mass = float(input(\"Enter the mass of the object (in kg): \"))\n",
    "specific_heat = float(input(\"Enter the specific heat capacity (in J/kg°C): \"))\n",
    "temperature_change = float(input(\"Enter the temperature change (in °C): \"))\n",
    "heat_transfer = mass * specific_heat * temperature_change\n",
    "print(f\"The heat transferred is: {heat_transfer:.2f} J\")\n",
    "\n"
   ]
  },
  {
   "cell_type": "code",
   "execution_count": null,
   "id": "535318d8-31ba-4c57-9e90-48355ce5617f",
   "metadata": {},
   "outputs": [],
   "source": []
  }
 ],
 "metadata": {
  "kernelspec": {
   "display_name": "Python 3 (ipykernel)",
   "language": "python",
   "name": "python3"
  },
  "language_info": {
   "codemirror_mode": {
    "name": "ipython",
    "version": 3
   },
   "file_extension": ".py",
   "mimetype": "text/x-python",
   "name": "python",
   "nbconvert_exporter": "python",
   "pygments_lexer": "ipython3",
   "version": "3.12.7"
  }
 },
 "nbformat": 4,
 "nbformat_minor": 5
}
