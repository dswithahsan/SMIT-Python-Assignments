{
 "cells": [
  {
   "cell_type": "markdown",
   "id": "178ab4dd-389d-4b70-b5d3-b566d1f93ffa",
   "metadata": {},
   "source": [
    "# Conditional Structures Assignment"
   ]
  },
  {
   "cell_type": "code",
   "execution_count": null,
   "id": "586ae143-3eb9-4c89-81ad-f4b1620da46b",
   "metadata": {},
   "outputs": [],
   "source": [
    "def even_or_odd():\n",
    "    num = int(input(\"Enter a number: \"))\n",
    "    if num % 2 == 0:\n",
    "        print(\"Even\")\n",
    "    else:\n",
    "        print(\"Odd\")\n",
    "\n",
    "even_or_odd()\n"
   ]
  },
  {
   "cell_type": "code",
   "execution_count": null,
   "id": "0539c6a2-8731-48e4-b1f7-818547b6755e",
   "metadata": {},
   "outputs": [],
   "source": [
    "def voting_eligibility():\n",
    "    age = int(input(\"Enter your age: \"))\n",
    "    if age >= 18:\n",
    "        print(\"You are eligible to vote.\")\n",
    "    else:\n",
    "        print(\"You are not eligible to vote yet.\")\n",
    "\n",
    "voting_eligibility()\n"
   ]
  },
  {
   "cell_type": "code",
   "execution_count": null,
   "id": "2308df7b-82e2-4963-a310-f5b5686d8370",
   "metadata": {},
   "outputs": [],
   "source": [
    "def largest_of_two():\n",
    "    num1 = int(input(\"Enter the first number: \"))\n",
    "    num2 = int(input(\"Enter the second number: \"))\n",
    "    if num1 > num2:\n",
    "        print(f\"The largest number is {num1}\")\n",
    "    else:\n",
    "        print(f\"The largest number is {num2}\")\n",
    "\n",
    "largest_of_two()\n"
   ]
  },
  {
   "cell_type": "code",
   "execution_count": null,
   "id": "2168bcee-a240-4e1f-98ec-9568a4ccbbce",
   "metadata": {},
   "outputs": [],
   "source": [
    "def check_number():\n",
    "    num = float(input(\"Enter a number: \"))\n",
    "    if num > 0:\n",
    "        print(\"Positive\")\n",
    "    elif num < 0:\n",
    "        print(\"Negative\")\n",
    "    else:\n",
    "        print(\"Zero\")\n",
    "\n",
    "check_number()\n"
   ]
  },
  {
   "cell_type": "code",
   "execution_count": null,
   "id": "52f7768c-97f7-4122-9761-2a50a4376112",
   "metadata": {},
   "outputs": [],
   "source": [
    "def age_group():\n",
    "    age = int(input(\"Enter your age: \"))\n",
    "    if 0 <= age <= 12:\n",
    "        print(\"Child\")\n",
    "    elif 13 <= age <= 19:\n",
    "        print(\"Teenager\")\n",
    "    elif 20 <= age <= 59:\n",
    "        print(\"Adult\")\n",
    "    else:\n",
    "        print(\"Senior Citizen\")\n",
    "\n",
    "age_group()\n"
   ]
  },
  {
   "cell_type": "code",
   "execution_count": null,
   "id": "79355f13-bcaf-43ab-9c6a-925d8a2e5522",
   "metadata": {},
   "outputs": [],
   "source": [
    "def day_of_week():\n",
    "    day_num = int(input(\"Enter a number (1-7): \"))\n",
    "    days = {\n",
    "        1: \"Sunday\", 2: \"Monday\", 3: \"Tuesday\",\n",
    "        4: \"Wednesday\", 5: \"Thursday\",\n",
    "        6: \"Friday\", 7: \"Saturday\"\n",
    "    }\n",
    "    print(days.get(day_num, \"Error: Invalid number. Please enter a number between 1 and 7.\"))\n",
    "\n",
    "day_of_week()\n"
   ]
  },
  {
   "cell_type": "code",
   "execution_count": null,
   "id": "a6da950b-e413-4007-860f-dc79f9800511",
   "metadata": {},
   "outputs": [],
   "source": [
    "def bmi_calculator():\n",
    "    weight = float(input(\"Enter your weight (kg): \"))\n",
    "    height = float(input(\"Enter your height (m): \"))\n",
    "    bmi = weight / (height ** 2)\n",
    "    if bmi < 18.5:\n",
    "        print(\"Underweight\")\n",
    "    elif 18.5 <= bmi < 24.9:\n",
    "        print(\"Normal weight\")\n",
    "    elif 25 <= bmi < 29.9:\n",
    "        print(\"Overweight\")\n",
    "    else:\n",
    "        print(\"Obesity\")\n",
    "\n",
    "bmi_calculator()\n"
   ]
  },
  {
   "cell_type": "code",
   "execution_count": null,
   "id": "50edaa4b-5d6d-4ba3-b5d1-32fdf4166738",
   "metadata": {},
   "outputs": [],
   "source": [
    "def calculate_grade():\n",
    "    marks = [float(input(f\"Enter marks for subject {i+1}: \")) for i in range(3)]\n",
    "    average = sum(marks) / len(marks)\n",
    "    if 90 <= average <= 100:\n",
    "        grade = \"A\"\n",
    "    elif 80 <= average < 90:\n",
    "        grade = \"B\"\n",
    "    elif 70 <= average < 80:\n",
    "        grade = \"C\"\n",
    "    elif 60 <= average < 70:\n",
    "        grade = \"D\"\n",
    "    else:\n",
    "        grade = \"F\"\n",
    "    print(f\"Average: {average:.2f}, Grade: {grade}\")\n",
    "\n",
    "calculate_grade()\n"
   ]
  },
  {
   "cell_type": "code",
   "execution_count": null,
   "id": "24fea2c8-c53b-42ca-bbb2-1e3e148ef7c5",
   "metadata": {},
   "outputs": [],
   "source": [
    "import math\n",
    "\n",
    "def quadratic_roots():\n",
    "    a = float(input(\"Enter coefficient a: \"))\n",
    "    b = float(input(\"Enter coefficient b: \"))\n",
    "    c = float(input(\"Enter coefficient c: \"))\n",
    "    discriminant = b ** 2 - 4 * a * c\n",
    "    if discriminant > 0:\n",
    "        root1 = (-b + math.sqrt(discriminant)) / (2 * a)\n",
    "        root2 = (-b - math.sqrt(discriminant)) / (2 * a)\n",
    "        print(f\"Roots are real and different: {root1}, {root2}\")\n",
    "    elif discriminant == 0:\n",
    "        root = -b / (2 * a)\n",
    "        print(f\"Roots are real and equal: {root}\")\n",
    "    else:\n",
    "        real = -b / (2 * a)\n",
    "        imaginary = math.sqrt(-discriminant) / (2 * a)\n",
    "        print(f\"Roots are complex: {real} + {imaginary}i, {real} - {imaginary}i\")\n",
    "\n",
    "quadratic_roots()\n"
   ]
  },
  {
   "cell_type": "code",
   "execution_count": null,
   "id": "d5e32db4-0cd3-4f70-96fe-f2f52ba800e2",
   "metadata": {},
   "outputs": [],
   "source": [
    "def sort_three_numbers():\n",
    "    nums = list(map(int, input(\"Enter three numbers separated by spaces: \").split()))\n",
    "    nums.sort()\n",
    "    print(\"Sorted numbers:\", nums)\n",
    "\n",
    "sort_three_numbers()\n"
   ]
  },
  {
   "cell_type": "code",
   "execution_count": null,
   "id": "d9752c04-85e3-4f59-9f2d-ce37c0767449",
   "metadata": {},
   "outputs": [],
   "source": [
    "def largest_of_three():\n",
    "    nums = list(map(int, input(\"Enter three integers separated by spaces: \").split()))\n",
    "    print(\"Largest number is:\", max(nums))\n",
    "\n",
    "largest_of_three()\n"
   ]
  },
  {
   "cell_type": "code",
   "execution_count": null,
   "id": "163fcccc-2e86-4d0e-b203-7fb3af4f1276",
   "metadata": {},
   "outputs": [],
   "source": [
    "def vowel_or_consonant():\n",
    "    char = input(\"Enter a single character: \").lower()\n",
    "    if char in \"aeiou\":\n",
    "        print(\"Vowel\")\n",
    "    elif char.isalpha():\n",
    "        print(\"Consonant\")\n",
    "    else:\n",
    "        print(\"Invalid input\")\n",
    "\n",
    "vowel_or_consonant()\n"
   ]
  },
  {
   "cell_type": "code",
   "execution_count": null,
   "id": "c7ca0e15-cb2a-449c-b3f6-636d46b803cc",
   "metadata": {},
   "outputs": [],
   "source": [
    "def is_leap_year():\n",
    "    year = int(input(\"Enter a year: \"))\n",
    "    if (year % 4 == 0 and year % 100 != 0) or (year % 400 == 0):\n",
    "        print(f\"{year} is a Leap Year\")\n",
    "    else:\n",
    "        print(f\"{year} is NOT a Leap Year\")\n",
    "\n",
    "is_leap_year()\n"
   ]
  },
  {
   "cell_type": "code",
   "execution_count": 3,
   "id": "82aef17a-2d6b-43a4-9153-fbcf41f05f05",
   "metadata": {},
   "outputs": [
    {
     "name": "stdin",
     "output_type": "stream",
     "text": [
      "Enter the number of calls:  2\n"
     ]
    },
    {
     "name": "stdout",
     "output_type": "stream",
     "text": [
      "Your total bill is: Rs. 200.00\n"
     ]
    }
   ],
   "source": [
    "def telephone_bill():\n",
    "    calls = int(input(\"Enter the number of calls: \"))\n",
    "    if calls <= 100:\n",
    "        bill = 200\n",
    "    elif calls <= 150:\n",
    "        bill = 200 + (calls - 100) * 0.60\n",
    "    elif calls <= 200:\n",
    "        bill = 200 + 50 * 0.60 + (calls - 150) * 0.50\n",
    "    else:\n",
    "        bill = 200 + 50 * 0.60 + 50 * 0.50 + (calls - 200) * 0.40\n",
    "    print(f\"Your total bill is: Rs. {bill:.2f}\")\n",
    "\n",
    "telephone_bill()\n"
   ]
  },
  {
   "cell_type": "code",
   "execution_count": null,
   "id": "dd5deeeb-6dc2-4844-bdbd-8a07b1146755",
   "metadata": {},
   "outputs": [],
   "source": []
  }
 ],
 "metadata": {
  "kernelspec": {
   "display_name": "Python 3 (ipykernel)",
   "language": "python",
   "name": "python3"
  },
  "language_info": {
   "codemirror_mode": {
    "name": "ipython",
    "version": 3
   },
   "file_extension": ".py",
   "mimetype": "text/x-python",
   "name": "python",
   "nbconvert_exporter": "python",
   "pygments_lexer": "ipython3",
   "version": "3.12.7"
  }
 },
 "nbformat": 4,
 "nbformat_minor": 5
}
