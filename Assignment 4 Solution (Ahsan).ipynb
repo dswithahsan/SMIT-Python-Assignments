{
 "cells": [
  {
   "cell_type": "markdown",
   "id": "8e02dff4-926b-4c4c-91dd-162bc234935d",
   "metadata": {},
   "source": [
    "# Strings Assignments"
   ]
  },
  {
   "cell_type": "code",
   "execution_count": null,
   "id": "97739322-0840-437a-ad6a-25452158d402",
   "metadata": {},
   "outputs": [],
   "source": [
    "def count_vowels():\n",
    "    string = input(\"Enter a string: \")\n",
    "    vowels = \"aeiouAEIOU\"\n",
    "    count = sum(1 for char in string if char in vowels)\n",
    "    print(f\"Number of vowels in the string: {count}\")\n",
    "\n",
    "count_vowels()\n"
   ]
  },
  {
   "cell_type": "code",
   "execution_count": null,
   "id": "544e4317-a2b0-4385-bd99-1f4720023a05",
   "metadata": {},
   "outputs": [],
   "source": [
    "def string_character_count():\n",
    "    string = input(\"Enter a string: \")\n",
    "    uppercase = sum(1 for char in string if char.isupper())\n",
    "    lowercase = sum(1 for char in string if char.islower())\n",
    "    digits = sum(1 for char in string if char.isdigit())\n",
    "    whitespaces = sum(1 for char in string if char.isspace())\n",
    "    print(f\"Uppercase letters: {uppercase}\")\n",
    "    print(f\"Lowercase letters: {lowercase}\")\n",
    "    print(f\"Digits: {digits}\")\n",
    "    print(f\"Whitespace characters: {whitespaces}\")\n",
    "\n",
    "string_character_count()\n"
   ]
  },
  {
   "cell_type": "code",
   "execution_count": null,
   "id": "b4faba89-0e57-4c9d-96b0-93c7621abf0a",
   "metadata": {},
   "outputs": [],
   "source": [
    "def exchange_first_last():\n",
    "    string = input(\"Enter a string: \")\n",
    "    if len(string) < 2:\n",
    "        print(\"New string:\", string)\n",
    "    else:\n",
    "        new_string = string[-1] + string[1:-1] + string[0]\n",
    "        print(\"New string:\", new_string)\n",
    "\n",
    "exchange_first_last()\n"
   ]
  },
  {
   "cell_type": "code",
   "execution_count": null,
   "id": "08969a69-e123-461e-b714-bf6ae45b5a2c",
   "metadata": {},
   "outputs": [],
   "source": [
    "def reverse_string():\n",
    "    string = input(\"Enter a string: \")\n",
    "    reversed_string = string[::-1]\n",
    "    print(\"Reversed string:\", reversed_string)\n",
    "\n",
    "reverse_string()\n"
   ]
  },
  {
   "cell_type": "code",
   "execution_count": null,
   "id": "ce7f9f0b-4c15-4e7b-8125-6b8949a56cdf",
   "metadata": {},
   "outputs": [],
   "source": [
    "def shift_left():\n",
    "    string = input(\"Enter a string: \")\n",
    "    if len(string) > 0:\n",
    "        new_string = string[1:] + string[0]\n",
    "        print(\"Shifted string:\", new_string)\n",
    "    else:\n",
    "        print(\"Empty string.\")\n",
    "\n",
    "shift_left()\n"
   ]
  },
  {
   "cell_type": "code",
   "execution_count": null,
   "id": "4990db2c-9b52-4b03-9e3b-cd107bc82c5a",
   "metadata": {},
   "outputs": [],
   "source": [
    "def print_initials():\n",
    "    name = input(\"Enter your full name: \")\n",
    "    initials = \"\"\n",
    "    for char in name:\n",
    "        if initials == \"\" or initials[-1] == \" \":\n",
    "            initials += char.upper() + \". \"\n",
    "    print(\"Initials:\", initials.strip())\n",
    "\n",
    "print_initials()\n"
   ]
  },
  {
   "cell_type": "code",
   "execution_count": null,
   "id": "903b39a4-bb4e-418e-8f3d-f757700bd84b",
   "metadata": {},
   "outputs": [],
   "source": [
    "def is_palindrome():\n",
    "    string = input(\"Enter a string: \")\n",
    "    cleaned_string = ''.join(char.lower() for char in string if char.isalnum())\n",
    "    if cleaned_string == cleaned_string[::-1]:\n",
    "        print(\"The string is a palindrome.\")\n",
    "    else:\n",
    "        print(\"The string is not a palindrome.\")\n",
    "\n",
    "is_palindrome()\n"
   ]
  },
  {
   "cell_type": "code",
   "execution_count": null,
   "id": "d2cc3dbd-112e-4d18-9ebc-e6d075e56335",
   "metadata": {},
   "outputs": [],
   "source": [
    "def shifting_pattern():\n",
    "    string = \"SHIFT\"\n",
    "    length = len(string)\n",
    "    for i in range(length):\n",
    "        print(string[i:] + string[:i])\n",
    "\n",
    "shifting_pattern()\n"
   ]
  },
  {
   "cell_type": "code",
   "execution_count": null,
   "id": "5993efde-9dae-4c28-bebe-c03782052a64",
   "metadata": {},
   "outputs": [],
   "source": [
    "def validate_password():\n",
    "    password = input(\"Enter a password: \")\n",
    "    if (len(password) >= 8 and\n",
    "        any(char.isupper() for char in password) and\n",
    "        any(char.islower() for char in password) and\n",
    "        any(char.isdigit() for char in password)):\n",
    "        print(\"Password is valid.\")\n",
    "    else:\n",
    "        print(\"Password is invalid. Make sure it meets the requirements.\")\n",
    "\n",
    "validate_password()\n"
   ]
  },
  {
   "cell_type": "code",
   "execution_count": null,
   "id": "760c22a3-d0bc-4b8f-a49d-2fda422b5a15",
   "metadata": {},
   "outputs": [],
   "source": []
  },
  {
   "cell_type": "code",
   "execution_count": null,
   "id": "a893d973-cad0-46b1-bfe3-de92c3e87a6c",
   "metadata": {},
   "outputs": [],
   "source": []
  },
  {
   "cell_type": "code",
   "execution_count": null,
   "id": "3332adf4-addd-4ca6-94e0-3b7ede3391c1",
   "metadata": {},
   "outputs": [],
   "source": []
  },
  {
   "cell_type": "code",
   "execution_count": null,
   "id": "3a3ae783-238b-48bc-be5d-3f52fc92b113",
   "metadata": {},
   "outputs": [],
   "source": []
  },
  {
   "cell_type": "code",
   "execution_count": null,
   "id": "9037fece-0a77-4784-b015-b11be5e0c06c",
   "metadata": {},
   "outputs": [],
   "source": []
  },
  {
   "cell_type": "code",
   "execution_count": null,
   "id": "cb149e25-7658-4011-babe-8cbf33f14c6e",
   "metadata": {},
   "outputs": [],
   "source": []
  },
  {
   "cell_type": "code",
   "execution_count": null,
   "id": "7e9b9c32-3eac-49db-bdc5-a222ec911088",
   "metadata": {},
   "outputs": [],
   "source": []
  },
  {
   "cell_type": "code",
   "execution_count": null,
   "id": "e531484b-fa94-4bf8-a6aa-6380ca1c0c09",
   "metadata": {},
   "outputs": [],
   "source": []
  }
 ],
 "metadata": {
  "kernelspec": {
   "display_name": "Python 3 (ipykernel)",
   "language": "python",
   "name": "python3"
  },
  "language_info": {
   "codemirror_mode": {
    "name": "ipython",
    "version": 3
   },
   "file_extension": ".py",
   "mimetype": "text/x-python",
   "name": "python",
   "nbconvert_exporter": "python",
   "pygments_lexer": "ipython3",
   "version": "3.12.7"
  }
 },
 "nbformat": 4,
 "nbformat_minor": 5
}
