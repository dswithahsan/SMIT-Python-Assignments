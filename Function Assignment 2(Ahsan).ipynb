{
 "cells": [
  {
   "cell_type": "code",
   "execution_count": 4,
   "id": "a11c1622-a824-4187-899a-a30576150318",
   "metadata": {},
   "outputs": [
    {
     "name": "stdout",
     "output_type": "stream",
     "text": [
      "2002,2009,2016,2023,2037,2044,2051,2058,2072,2079,2086,2093,2107,2114,2121,2128,2142,2149,2156,2163,2177,2184,2191,2198,2212,2219,2226,2233,2247,2254,2261,2268,2282,2289,2296,2303,2317,2324,2331,2338,2352,2359,2366,2373,2387,2394,2401,2408,2422,2429,2436,2443,2457,2464,2471,2478,2492,2499,2506,2513,2527,2534,2541,2548,2562,2569,2576,2583,2597,2604,2611,2618,2632,2639,2646,2653,2667,2674,2681,2688,2702,2709,2716,2723,2737,2744,2751,2758,2772,2779,2786,2793,2807,2814,2821,2828,2842,2849,2856,2863,2877,2884,2891,2898,2912,2919,2926,2933,2947,2954,2961,2968,2982,2989,2996,3003,3017,3024,3031,3038,3052,3059,3066,3073,3087,3094,3101,3108,3122,3129,3136,3143,3157,3164,3171,3178,3192,3199\n"
     ]
    }
   ],
   "source": [
    "def divisible_by_7_not_5():\n",
    "    result = [str(x) for x in range(2000, 3201) if x % 7 == 0 and x % 5 != 0]\n",
    "    return \",\".join(result)\n",
    "\n",
    "# Test\n",
    "output = divisible_by_7_not_5()\n",
    "print(output)\n"
   ]
  },
  {
   "cell_type": "code",
   "execution_count": 6,
   "id": "a233dce9-d25b-4d5f-b308-fd2613555b02",
   "metadata": {},
   "outputs": [
    {
     "name": "stdout",
     "output_type": "stream",
     "text": [
      "5,4,4\n"
     ]
    }
   ],
   "source": [
    "import math\n",
    "\n",
    "def calculate_values(c_values):\n",
    "    A = 50\n",
    "    B = 30\n",
    "    result = [str(int(math.sqrt((2 * A * B) / int(C)))) for C in c_values]\n",
    "    return \",\".join(result)\n",
    "\n",
    "# Test\n",
    "input_values = [100, 150, 180]\n",
    "output = calculate_values(input_values)\n",
    "print(output)  # Expected: 18,22,24\n"
   ]
  },
  {
   "cell_type": "code",
   "execution_count": 8,
   "id": "b3bda917-79cf-4798-a1c0-d67d27bf1b90",
   "metadata": {},
   "outputs": [
    {
     "name": "stdout",
     "output_type": "stream",
     "text": [
      "bag,hello,without,world\n"
     ]
    }
   ],
   "source": [
    "def sort_words(input_string):\n",
    "    words = input_string.split(\",\")\n",
    "    words.sort()\n",
    "    return \",\".join(words)\n",
    "\n",
    "# Test\n",
    "input_string = \"without,hello,bag,world\"\n",
    "output = sort_words(input_string)\n",
    "print(output)  # Expected: bag,hello,without,world\n"
   ]
  },
  {
   "cell_type": "code",
   "execution_count": 10,
   "id": "e0fe2dc9-a5f4-4985-88d6-d227de74e78b",
   "metadata": {},
   "outputs": [
    {
     "name": "stdout",
     "output_type": "stream",
     "text": [
      "HELLO WORLD\n",
      "PRACTICE MAKES PERFECT\n"
     ]
    }
   ],
   "source": [
    "def capitalize_lines(lines):\n",
    "    return [line.upper() for line in lines]\n",
    "\n",
    "# Test\n",
    "input_lines = [\"Hello world\", \"Practice makes perfect\"]\n",
    "output = capitalize_lines(input_lines)\n",
    "print(\"\\n\".join(output))\n"
   ]
  },
  {
   "cell_type": "code",
   "execution_count": 12,
   "id": "1a8480ee-4a9b-4c9c-9a43-6dbcc8cf842d",
   "metadata": {},
   "outputs": [
    {
     "name": "stdout",
     "output_type": "stream",
     "text": [
      "a appeared 0 times\n",
      "e appeared 1 times\n",
      "i appeared 0 times\n",
      "o appeared 2 times\n",
      "u appeared 0 times\n",
      "HELLO WORLD\n"
     ]
    }
   ],
   "source": [
    "def count_vowels(sentence):\n",
    "    vowels = \"aeiou\"\n",
    "    sentence = sentence.lower()\n",
    "    counts = {vowel: sentence.count(vowel) for vowel in vowels}\n",
    "    for vowel, count in counts.items():\n",
    "        print(f\"{vowel} appeared {count} times\")\n",
    "    print(sentence.upper())\n",
    "\n",
    "# Test\n",
    "input_sentence = \"Hello world\"\n",
    "count_vowels(input_sentence)\n"
   ]
  },
  {
   "cell_type": "code",
   "execution_count": 14,
   "id": "d4ca0651-ef4d-4179-8d5f-201dd96216a2",
   "metadata": {},
   "outputs": [
    {
     "name": "stdout",
     "output_type": "stream",
     "text": [
      "2000,2002,2004,2006,2008,2020,2022,2024,2026,2028,2040,2042,2044,2046,2048,2060,2062,2064,2066,2068,2080,2082,2084,2086,2088,2200,2202,2204,2206,2208,2220,2222,2224,2226,2228,2240,2242,2244,2246,2248,2260,2262,2264,2266,2268,2280,2282,2284,2286,2288,2400,2402,2404,2406,2408,2420,2422,2424,2426,2428,2440,2442,2444,2446,2448,2460,2462,2464,2466,2468,2480,2482,2484,2486,2488,2600,2602,2604,2606,2608,2620,2622,2624,2626,2628,2640,2642,2644,2646,2648,2660,2662,2664,2666,2668,2680,2682,2684,2686,2688,2800,2802,2804,2806,2808,2820,2822,2824,2826,2828,2840,2842,2844,2846,2848,2860,2862,2864,2866,2868,2880,2882,2884,2886,2888\n"
     ]
    }
   ],
   "source": [
    "def all_even_digits():\n",
    "    result = [str(x) for x in range(1000, 3001) if all(int(digit) % 2 == 0 for digit in str(x))]\n",
    "    return \",\".join(result)\n",
    "\n",
    "# Test\n",
    "output = all_even_digits()\n",
    "print(output)\n"
   ]
  },
  {
   "cell_type": "code",
   "execution_count": 16,
   "id": "c14e216a-b142-4741-9dfc-bc355f457bc8",
   "metadata": {},
   "outputs": [
    {
     "name": "stdout",
     "output_type": "stream",
     "text": [
      "1010\n"
     ]
    }
   ],
   "source": [
    "def binary_divisible_by_5(binary_numbers):\n",
    "    result = [binary for binary in binary_numbers if int(binary, 2) % 5 == 0]\n",
    "    return \",\".join(result)\n",
    "\n",
    "# Test\n",
    "binary_input = [\"0100\", \"0011\", \"1010\", \"1001\"]\n",
    "output = binary_divisible_by_5(binary_input)\n",
    "print(output)  # Expected: 1010\n"
   ]
  },
  {
   "cell_type": "code",
   "execution_count": 18,
   "id": "7fd84e04-8043-4fa0-a15b-99f6651bdb5a",
   "metadata": {},
   "outputs": [
    {
     "name": "stdout",
     "output_type": "stream",
     "text": [
      "LETTERS 10\n",
      "DIGITS 3\n"
     ]
    }
   ],
   "source": [
    "def count_letters_digits(sentence):\n",
    "    letters = sum(char.isalpha() for char in sentence)\n",
    "    digits = sum(char.isdigit() for char in sentence)\n",
    "    print(f\"LETTERS {letters}\")\n",
    "    print(f\"DIGITS {digits}\")\n",
    "\n",
    "# Test\n",
    "input_sentence = \"hello world! 123\"\n",
    "count_letters_digits(input_sentence)\n",
    "\n"
   ]
  }
 ],
 "metadata": {
  "kernelspec": {
   "display_name": "Python 3 (ipykernel)",
   "language": "python",
   "name": "python3"
  },
  "language_info": {
   "codemirror_mode": {
    "name": "ipython",
    "version": 3
   },
   "file_extension": ".py",
   "mimetype": "text/x-python",
   "name": "python",
   "nbconvert_exporter": "python",
   "pygments_lexer": "ipython3",
   "version": "3.12.7"
  }
 },
 "nbformat": 4,
 "nbformat_minor": 5
}
