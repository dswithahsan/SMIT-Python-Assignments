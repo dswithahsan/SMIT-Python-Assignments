{
 "cells": [
  {
   "cell_type": "code",
   "execution_count": 12,
   "id": "4121f411-c8f8-45be-a28c-6f5f2ded15a0",
   "metadata": {},
   "outputs": [
    {
     "name": "stdout",
     "output_type": "stream",
     "text": [
      "Welcome to the Banking System!\n",
      "\n",
      "Menu:\n",
      "1. Create an account\n",
      "2. Deposit money\n",
      "3. Withdraw money\n",
      "4. Check balance\n",
      "5. Print statement\n",
      "6. Exit\n"
     ]
    },
    {
     "name": "stdin",
     "output_type": "stream",
     "text": [
      "Choose an option:  1\n",
      "Enter your name:  ahsan\n"
     ]
    },
    {
     "name": "stdout",
     "output_type": "stream",
     "text": [
      "Account created for ahsan with an initial balance of $0.\n",
      "\n",
      "Menu:\n",
      "1. Create an account\n",
      "2. Deposit money\n",
      "3. Withdraw money\n",
      "4. Check balance\n",
      "5. Print statement\n",
      "6. Exit\n"
     ]
    },
    {
     "name": "stdin",
     "output_type": "stream",
     "text": [
      "Choose an option:  2\n",
      "Enter your name:  ahsan\n",
      "Enter the amount to deposit:  600\n"
     ]
    },
    {
     "name": "stdout",
     "output_type": "stream",
     "text": [
      "Successfully deposited $600.0. Current balance: $600.0\n",
      "\n",
      "Menu:\n",
      "1. Create an account\n",
      "2. Deposit money\n",
      "3. Withdraw money\n",
      "4. Check balance\n",
      "5. Print statement\n",
      "6. Exit\n"
     ]
    },
    {
     "name": "stdin",
     "output_type": "stream",
     "text": [
      "Choose an option:  3\n",
      "Enter your name:  ahsan\n",
      "Enter the amount to withdraw:  599\n"
     ]
    },
    {
     "name": "stdout",
     "output_type": "stream",
     "text": [
      "Successfully withdrew $599.0. Current balance: $1.0\n",
      "\n",
      "Menu:\n",
      "1. Create an account\n",
      "2. Deposit money\n",
      "3. Withdraw money\n",
      "4. Check balance\n",
      "5. Print statement\n",
      "6. Exit\n"
     ]
    },
    {
     "name": "stdin",
     "output_type": "stream",
     "text": [
      "Choose an option:  2\n",
      "Enter your name:  ahsan\n",
      "Enter the amount to deposit:  666\n"
     ]
    },
    {
     "name": "stdout",
     "output_type": "stream",
     "text": [
      "Successfully deposited $666.0. Current balance: $667.0\n",
      "\n",
      "Menu:\n",
      "1. Create an account\n",
      "2. Deposit money\n",
      "3. Withdraw money\n",
      "4. Check balance\n",
      "5. Print statement\n",
      "6. Exit\n"
     ]
    },
    {
     "name": "stdin",
     "output_type": "stream",
     "text": [
      "Choose an option:  3\n",
      "Enter your name:  ahsan\n",
      "Enter the amount to withdraw:  65\n"
     ]
    },
    {
     "name": "stdout",
     "output_type": "stream",
     "text": [
      "Successfully withdrew $65.0. Current balance: $602.0\n",
      "\n",
      "Menu:\n",
      "1. Create an account\n",
      "2. Deposit money\n",
      "3. Withdraw money\n",
      "4. Check balance\n",
      "5. Print statement\n",
      "6. Exit\n"
     ]
    },
    {
     "name": "stdin",
     "output_type": "stream",
     "text": [
      "Choose an option:  5\n",
      "Enter your name:  ahsan\n"
     ]
    },
    {
     "name": "stdout",
     "output_type": "stream",
     "text": [
      "Transaction history for ahsan:\n",
      "Deposited: $600.0\n",
      "Withdrew: $599.0\n",
      "Deposited: $666.0\n",
      "Withdrew: $65.0\n",
      "Final balance: $602.0\n",
      "\n",
      "Menu:\n",
      "1. Create an account\n",
      "2. Deposit money\n",
      "3. Withdraw money\n",
      "4. Check balance\n",
      "5. Print statement\n",
      "6. Exit\n"
     ]
    },
    {
     "name": "stdin",
     "output_type": "stream",
     "text": [
      "Choose an option:  6\n"
     ]
    },
    {
     "name": "stdout",
     "output_type": "stream",
     "text": [
      "Thank you for using the Banking System. Goodbye!\n"
     ]
    }
   ],
   "source": [
    "import os\n",
    "\n",
    "# Function to create a new account\n",
    "def create_account(name, initial_balance=0.0):\n",
    "    return {\n",
    "        \"name\": name,\n",
    "        \"balance\": initial_balance,\n",
    "        \"transactions\": []\n",
    "    }\n",
    "\n",
    "# Function to deposit money into the account\n",
    "def deposit(account, amount):\n",
    "    if amount <= 0:\n",
    "        return \"Deposit amount must be positive.\"\n",
    "\n",
    "    account['balance'] += amount\n",
    "    account['transactions'].append(f\"Deposited: ${amount}\")\n",
    "    log_transaction(account['name'], f\"Deposited: ${amount}\")\n",
    "    return f\"Successfully deposited ${amount}. Current balance: ${account['balance']}\"\n",
    "\n",
    "# Function to withdraw money from the account\n",
    "def withdraw(account, amount):\n",
    "    if amount <= 0:\n",
    "        return \"Withdrawal amount must be positive.\"\n",
    "\n",
    "    if amount > account['balance']:\n",
    "        return \"Error: Insufficient funds. You cannot withdraw more than your current balance.\"\n",
    "\n",
    "    account['balance'] -= amount\n",
    "    account['transactions'].append(f\"Withdrew: ${amount}\")\n",
    "    log_transaction(account['name'], f\"Withdrew: ${amount}\")\n",
    "    return f\"Successfully withdrew ${amount}. Current balance: ${account['balance']}\"\n",
    "\n",
    "# Function to check the current balance\n",
    "def check_balance(account):\n",
    "    return f\"Your current balance is: ${account['balance']}\"\n",
    "\n",
    "# Function to print the transaction statement\n",
    "def print_statement(account):\n",
    "    if not account['transactions']:\n",
    "        return \"No transactions available.\"\n",
    "\n",
    "    statement = [f\"Transaction history for {account['name']}:\"]\n",
    "    statement.extend(account['transactions'])\n",
    "    statement.append(f\"Final balance: ${account['balance']}\")\n",
    "    return \"\\n\".join(statement)\n",
    "\n",
    "# Helper function to log transactions to a file\n",
    "def log_transaction(account_name, transaction):\n",
    "    file_name = f\"{account_name}_transactions.txt\"\n",
    "    with open(file_name, \"a\") as file:\n",
    "        file.write(transaction + \"\\n\")\n",
    "\n",
    "# Helper function to get an account or return an error message\n",
    "def get_account(accounts, name):\n",
    "    if name not in accounts:\n",
    "        print(\"Account not found. Please create an account first.\")\n",
    "        return None\n",
    "    return accounts[name]\n",
    "\n",
    "# Helper function to ensure account names are unique\n",
    "def is_name_available(accounts, name):\n",
    "    return name not in accounts\n",
    "\n",
    "# Main function to demonstrate the banking system\n",
    "def main():\n",
    "    print(\"Welcome to the Banking System!\")\n",
    "\n",
    "    accounts = {}\n",
    "\n",
    "    while True:\n",
    "        print(\"\\nMenu:\")\n",
    "        print(\"1. Create an account\")\n",
    "        print(\"2. Deposit money\")\n",
    "        print(\"3. Withdraw money\")\n",
    "        print(\"4. Check balance\")\n",
    "        print(\"5. Print statement\")\n",
    "        print(\"6. Exit\")\n",
    "\n",
    "        choice = input(\"Choose an option: \")\n",
    "\n",
    "        if choice == \"1\":\n",
    "            name = input(\"Enter your name: \")\n",
    "            if not is_name_available(accounts, name):\n",
    "                print(f\"Error: An account with the name '{name}' already exists. Please choose a different name.\")\n",
    "                continue\n",
    "\n",
    "            accounts[name] = create_account(name)\n",
    "            print(f\"Account created for {name} with an initial balance of $0.\")\n",
    "\n",
    "        elif choice == \"2\":\n",
    "            name = input(\"Enter your name: \")\n",
    "            account = get_account(accounts, name)\n",
    "            if account:\n",
    "                amount = float(input(\"Enter the amount to deposit: \"))\n",
    "                print(deposit(account, amount))\n",
    "\n",
    "        elif choice == \"3\":\n",
    "            name = input(\"Enter your name: \")\n",
    "            account = get_account(accounts, name)\n",
    "            if account:\n",
    "                amount = float(input(\"Enter the amount to withdraw: \"))\n",
    "                print(withdraw(account, amount))\n",
    "\n",
    "        elif choice == \"4\":\n",
    "            name = input(\"Enter your name: \")\n",
    "            account = get_account(accounts, name)\n",
    "            if account:\n",
    "                print(check_balance(account))\n",
    "\n",
    "        elif choice == \"5\":\n",
    "            name = input(\"Enter your name: \")\n",
    "            account = get_account(accounts, name)\n",
    "            if account:\n",
    "                print(print_statement(account))\n",
    "\n",
    "        elif choice == \"6\":\n",
    "            print(\"Thank you for using the Banking System. Goodbye!\")\n",
    "            break\n",
    "\n",
    "        else:\n",
    "            print(\"Invalid option. Please try again.\")\n",
    "\n",
    "if __name__ == \"__main__\":\n",
    "    main()\n"
   ]
  },
  {
   "cell_type": "code",
   "execution_count": null,
   "id": "c4ef59f8-e84e-4abd-989a-cefa0334c415",
   "metadata": {},
   "outputs": [],
   "source": []
  }
 ],
 "metadata": {
  "kernelspec": {
   "display_name": "Python 3 (ipykernel)",
   "language": "python",
   "name": "python3"
  },
  "language_info": {
   "codemirror_mode": {
    "name": "ipython",
    "version": 3
   },
   "file_extension": ".py",
   "mimetype": "text/x-python",
   "name": "python",
   "nbconvert_exporter": "python",
   "pygments_lexer": "ipython3",
   "version": "3.12.7"
  }
 },
 "nbformat": 4,
 "nbformat_minor": 5
}
