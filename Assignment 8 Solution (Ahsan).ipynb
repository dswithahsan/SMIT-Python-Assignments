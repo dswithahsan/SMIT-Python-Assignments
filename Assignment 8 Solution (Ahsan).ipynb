{
 "cells": [
  {
   "cell_type": "code",
   "execution_count": 17,
   "id": "b1b04280-e959-4170-947f-92aff7faeeac",
   "metadata": {},
   "outputs": [
    {
     "name": "stdout",
     "output_type": "stream",
     "text": [
      "23\n"
     ]
    }
   ],
   "source": [
    "def max_of_three(a, b, c):\n",
    "    return max(a, b, c)\n",
    "print(max_of_three(8, 15, 23))  # Example usage\n"
   ]
  },
  {
   "cell_type": "code",
   "execution_count": 19,
   "id": "8bfeb05e-c685-46a0-97ff-dbd950fa7792",
   "metadata": {},
   "outputs": [
    {
     "name": "stdout",
     "output_type": "stream",
     "text": [
      "20\n"
     ]
    }
   ],
   "source": [
    "def sum_list(numbers):\n",
    "    return sum(numbers)\n",
    "print(sum_list([8, 2, 3, 0, 7]))  # Expected Output: 20\n"
   ]
  },
  {
   "cell_type": "code",
   "execution_count": 21,
   "id": "9580dd99-bf76-470b-8015-2187a43ba9a5",
   "metadata": {},
   "outputs": [
    {
     "name": "stdout",
     "output_type": "stream",
     "text": [
      "-336\n"
     ]
    }
   ],
   "source": [
    "def multiply_list(numbers):\n",
    "    result = 1\n",
    "    for num in numbers:\n",
    "        result *= num\n",
    "    return result\n",
    "print(multiply_list([8, 2, 3, -1, 7]))  # Expected Output: -336\n",
    "\n"
   ]
  },
  {
   "cell_type": "code",
   "execution_count": 23,
   "id": "0c5eb16a-24fc-4c37-bb64-91e271e38599",
   "metadata": {},
   "outputs": [
    {
     "name": "stdout",
     "output_type": "stream",
     "text": [
      "dcba4321\n"
     ]
    }
   ],
   "source": [
    "def reverse_string(s):\n",
    "    return s[::-1]\n",
    "print(reverse_string(\"1234abcd\"))  # Expected Output: \"dcba4321\"\n"
   ]
  },
  {
   "cell_type": "code",
   "execution_count": 25,
   "id": "adcd8887-a744-435c-af77-6a1de1081ebe",
   "metadata": {},
   "outputs": [
    {
     "name": "stdout",
     "output_type": "stream",
     "text": [
      "120\n"
     ]
    }
   ],
   "source": [
    "def factorial(n):\n",
    "    if n == 0:\n",
    "        return 1\n",
    "    else:\n",
    "        return n * factorial(n - 1)\n",
    "print(factorial(5))  # Example usage\n",
    "\n"
   ]
  },
  {
   "cell_type": "code",
   "execution_count": 27,
   "id": "26eb0068-3286-4eeb-a1e2-5ec74a1834c5",
   "metadata": {},
   "outputs": [
    {
     "name": "stdout",
     "output_type": "stream",
     "text": [
      "True\n"
     ]
    }
   ],
   "source": [
    "def is_in_range(number, start, end):\n",
    "    return start <= number <= end\n",
    "print(is_in_range(5, 1, 10))  # Example usage\n"
   ]
  },
  {
   "cell_type": "code",
   "execution_count": 29,
   "id": "f54b735a-d7cf-4514-a4d3-aa360625935c",
   "metadata": {},
   "outputs": [
    {
     "name": "stdout",
     "output_type": "stream",
     "text": [
      "No. of Upper case characters: 3\n",
      "No. of Lower case Characters: 12\n"
     ]
    }
   ],
   "source": [
    "def count_case(s):\n",
    "    upper = sum(1 for char in s if char.isupper())\n",
    "    lower = sum(1 for char in s if char.islower())\n",
    "    return f\"No. of Upper case characters: {upper}\\nNo. of Lower case Characters: {lower}\"\n",
    "\n",
    "print(count_case('The quick Brow Fox'))\n",
    "# Expected Output:\n",
    "# No. of Upper case characters : 3\n",
    "# No. of Lower case Characters : 12\n"
   ]
  },
  {
   "cell_type": "code",
   "execution_count": 31,
   "id": "03f075d9-51a3-46c7-9e9f-2a43ba29e642",
   "metadata": {},
   "outputs": [
    {
     "name": "stdout",
     "output_type": "stream",
     "text": [
      "[1, 2, 3, 4, 5]\n"
     ]
    }
   ],
   "source": [
    "def remove_duplicates(input_list):\n",
    "    return list(set(input_list))\n",
    "\n",
    "# Test\n",
    "sample_list = [1, 2, 3, 3, 3, 4, 4, 5]\n",
    "unique_list = remove_duplicates(sample_list)\n",
    "print(unique_list)  # Expected: [1, 2, 3, 4, 5]\n"
   ]
  },
  {
   "cell_type": "code",
   "execution_count": 33,
   "id": "704acec0-a038-4cb8-a951-ab7805fa0349",
   "metadata": {},
   "outputs": [
    {
     "name": "stdout",
     "output_type": "stream",
     "text": [
      "True\n",
      "False\n"
     ]
    }
   ],
   "source": [
    "def is_prime(number):\n",
    "    if number < 2:\n",
    "        return False\n",
    "    for i in range(2, int(number**0.5) + 1):\n",
    "        if number % i == 0:\n",
    "            return False\n",
    "    return True\n",
    "\n",
    "# Test\n",
    "print(is_prime(7))  # Expected: True\n",
    "print(is_prime(8))  # Expected: False\n"
   ]
  },
  {
   "cell_type": "code",
   "execution_count": 35,
   "id": "4fedc630-9a3c-4ee3-8086-466a0ca1255f",
   "metadata": {},
   "outputs": [
    {
     "name": "stdout",
     "output_type": "stream",
     "text": [
      "[2, 4, 6, 8]\n"
     ]
    }
   ],
   "source": [
    "def filter_even_numbers(numbers):\n",
    "    return [num for num in numbers if num % 2 == 0]\n",
    "\n",
    "# Test\n",
    "sample_list = [1, 2, 3, 4, 5, 6, 7, 8, 9]\n",
    "even_numbers = filter_even_numbers(sample_list)\n",
    "print(even_numbers)  # Expected: [2, 4, 6, 8]\n"
   ]
  },
  {
   "cell_type": "code",
   "execution_count": 37,
   "id": "f442eae7-d30f-43e0-8caf-93ebcd72ceef",
   "metadata": {},
   "outputs": [
    {
     "name": "stdout",
     "output_type": "stream",
     "text": [
      "True\n",
      "True\n",
      "False\n"
     ]
    }
   ],
   "source": [
    "def is_perfect_number(number):\n",
    "    if number < 1:\n",
    "        return False\n",
    "    divisors = [i for i in range(1, number) if number % i == 0]\n",
    "    return sum(divisors) == number\n",
    "\n",
    "# Test\n",
    "print(is_perfect_number(6))   # Expected: True\n",
    "print(is_perfect_number(28))  # Expected: True\n",
    "print(is_perfect_number(12))  # Expected: False\n"
   ]
  },
  {
   "cell_type": "code",
   "execution_count": 39,
   "id": "8f86e3bb-80e0-495f-b4fd-62c84da02cd5",
   "metadata": {},
   "outputs": [
    {
     "name": "stdout",
     "output_type": "stream",
     "text": [
      "True\n",
      "False\n"
     ]
    }
   ],
   "source": [
    "def is_palindrome(string):\n",
    "    string = string.lower().replace(\" \", \"\")  # Optional: Ignore case and spaces\n",
    "    return string == string[::-1]\n",
    "\n",
    "# Test\n",
    "print(is_palindrome(\"nurses run\"))  # Expected: True\n",
    "print(is_palindrome(\"hello\"))      # Expected: False\n"
   ]
  },
  {
   "cell_type": "code",
   "execution_count": null,
   "id": "4473dcbc-f46e-4eb9-a923-aa6c61d1bf90",
   "metadata": {},
   "outputs": [],
   "source": []
  }
 ],
 "metadata": {
  "kernelspec": {
   "display_name": "Python 3 (ipykernel)",
   "language": "python",
   "name": "python3"
  },
  "language_info": {
   "codemirror_mode": {
    "name": "ipython",
    "version": 3
   },
   "file_extension": ".py",
   "mimetype": "text/x-python",
   "name": "python",
   "nbconvert_exporter": "python",
   "pygments_lexer": "ipython3",
   "version": "3.12.7"
  }
 },
 "nbformat": 4,
 "nbformat_minor": 5
}
