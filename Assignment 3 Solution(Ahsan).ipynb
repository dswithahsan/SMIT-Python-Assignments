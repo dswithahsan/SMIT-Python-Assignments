{
 "cells": [
  {
   "cell_type": "markdown",
   "id": "91254fe2-93ec-457c-9896-dcfc35a0c100",
   "metadata": {},
   "source": [
    "### Write a program to check if a customer is eligible for a discount. If the total purchase is more than $100, apply a 10% discount and display the final price. Otherwise, display the total price as it is. "
   ]
  },
  {
   "cell_type": "code",
   "execution_count": 4,
   "id": "a73af28b-c537-4126-99a6-bceacbf451b1",
   "metadata": {},
   "outputs": [
    {
     "name": "stdin",
     "output_type": "stream",
     "text": [
      "Enter the total purchase amount: $ 20000\n"
     ]
    },
    {
     "name": "stdout",
     "output_type": "stream",
     "text": [
      "You are eligible for a discount of $ 2000.00.\n",
      "The final price after discount is: $ 18000.00\n"
     ]
    }
   ],
   "source": [
    "# Check Discount Eligibility Program\n",
    "\n",
    "# Input: total purchase amount\n",
    "total_purchase = float(input(\"Enter the total purchase amount: $\"))\n",
    "\n",
    "# Check eligibility for discount\n",
    "if total_purchase > 100:\n",
    "    discount = total_purchase * 0.10  # 10% discount\n",
    "    final_price = total_purchase - discount\n",
    "    print(f\"You are eligible for a discount of $ {discount:.2f}.\")\n",
    "    print(f\"The final price after discount is: $ {final_price:.2f}\")\n",
    "else:\n",
    "    print(f\"You are not eligible for a discount.\")\n",
    "    print(f\"The total price is: $ {total_purchase:.2f}\")\n"
   ]
  },
  {
   "cell_type": "markdown",
   "id": "7b31b6c6-ef38-4f49-b040-c6691cde1ea0",
   "metadata": {},
   "source": [
    "### Calculate Bulk Discount If a customer buys more than 5 items, apply a 15% discount on the total price. Otherwise, no discount is applied. Display the total price. \n"
   ]
  },
  {
   "cell_type": "code",
   "execution_count": 9,
   "id": "c30aabf2-cc5b-49c3-a380-cefe3617cfd2",
   "metadata": {},
   "outputs": [
    {
     "name": "stdin",
     "output_type": "stream",
     "text": [
      "Enter the number of items purchased:  12\n",
      "Enter the price per item: $ 50\n"
     ]
    },
    {
     "name": "stdout",
     "output_type": "stream",
     "text": [
      "You are eligible for a bulk discount of $ 90.00.\n",
      "The final price after discount is: $ 510.00\n"
     ]
    }
   ],
   "source": [
    "# Bulk Discount Program\n",
    "\n",
    "num_items = int(input(\"Enter the number of items purchased: \"))\n",
    "price_per_item = float(input(\"Enter the price per item: $\"))\n",
    "\n",
    "# Calculate the total price\n",
    "total_price = num_items * price_per_item\n",
    "\n",
    "# Check eligibility for bulk discount\n",
    "if num_items > 5:\n",
    "    discount = total_price * 0.15  # 15% discount\n",
    "    final_price = total_price - discount\n",
    "    print(f\"You are eligible for a bulk discount of $ {discount:.2f}.\")\n",
    "    print(f\"The final price after discount is: $ {final_price:.2f}\")\n",
    "else:\n",
    "    print(\"You are not eligible for a bulk discount.\")\n",
    "    print(f\"The total price is: $ {total_price:.2f}\")\n"
   ]
  },
  {
   "cell_type": "markdown",
   "id": "f27e4637-e252-482f-b45a-05db2a58e213",
   "metadata": {},
   "source": [
    "### Check if the customer is a member (is_member = True). Members get a 20% discount; non-members get a 5% discount. Calculate and print the discounted price. "
   ]
  },
  {
   "cell_type": "code",
   "execution_count": 16,
   "id": "a6560ed0-970a-4e4f-9e5f-7821ccb83693",
   "metadata": {},
   "outputs": [
    {
     "name": "stdin",
     "output_type": "stream",
     "text": [
      "Are you a member? (yes or no):  yes\n",
      "Enter the total purchase amount: $ 25\n"
     ]
    },
    {
     "name": "stdout",
     "output_type": "stream",
     "text": [
      "You are a member and eligible for a 20% discount.\n",
      "Discount applied: $ 5.00\n",
      "The final price after discount is: $ 20.00\n"
     ]
    }
   ],
   "source": [
    "# Membership Discount Program\n",
    "\n",
    "# Input: Check membership status and purchase amount\n",
    "is_member = input(\"Are you a member? (yes or no): \").strip().lower() == \"yes\"\n",
    "total_price = float(input(\"Enter the total purchase amount: $\"))\n",
    "\n",
    "# Calculate discount based on membership status\n",
    "if is_member:\n",
    "    discount = total_price * 0.20  # 20% discount for members\n",
    "    print(\"You are a member and eligible for a 20% discount.\")\n",
    "else:\n",
    "    discount = total_price * 0.05  # 5% discount for non-members\n",
    "    print(\"You are not a member. You are eligible for a 5% discount.\")\n",
    "\n",
    "# Calculate final price\n",
    "final_price = total_price - discount\n",
    "\n",
    "# Display the discounted price\n",
    "print(f\"Discount applied: $ {discount:.2f}\")\n",
    "print(f\"The final price after discount is: $ {final_price:.2f}\")\n"
   ]
  },
  {
   "cell_type": "markdown",
   "id": "07052c84-7310-45a9-8707-f5c59e7f23e9",
   "metadata": {},
   "source": [
    "### Seasonal Sale If today is a holiday (is_holiday =  True), apply a 25% discount; otherwise, apply a 10% discount. Calculate the price after discount. "
   ]
  },
  {
   "cell_type": "code",
   "execution_count": 20,
   "id": "de236bb7-b617-481a-b841-7988a7c34b62",
   "metadata": {},
   "outputs": [
    {
     "name": "stdin",
     "output_type": "stream",
     "text": [
      "Is today a holiday? (yes or no):  yes\n",
      "Enter the total purchase amount: $ 4555\n"
     ]
    },
    {
     "name": "stdout",
     "output_type": "stream",
     "text": [
      "It's a holiday! You are eligible for a 25% discount.\n",
      "Discount applied: $ 1138.75\n",
      "The final price after discount is: $ 3416.25\n"
     ]
    }
   ],
   "source": [
    "# Seasonal Sale Program\n",
    "\n",
    "# Input: Check if today is a holiday and total purchase amount\n",
    "is_holiday = input(\"Is today a holiday? (yes or no): \").strip().lower() == \"yes\"\n",
    "total_price = float(input(\"Enter the total purchase amount: $\"))\n",
    "\n",
    "# Calculate discount based on holiday status\n",
    "if is_holiday:\n",
    "    discount = total_price * 0.25  # 25% discount on holidays\n",
    "    print(\"It's a holiday! You are eligible for a 25% discount.\")\n",
    "else:\n",
    "    discount = total_price * 0.10  # 10% discount otherwise\n",
    "    print(\"It's not a holiday. You are eligible for a 10% discount.\")\n",
    "\n",
    "# Calculate final price\n",
    "final_price = total_price - discount\n",
    "\n",
    "# Display the discounted price\n",
    "print(f\"Discount applied: $ {discount:.2f}\")\n",
    "print(f\"The final price after discount is: $ {final_price:.2f}\")\n"
   ]
  },
  {
   "cell_type": "markdown",
   "id": "5fb13cd9-4d25-4a5e-9a4b-2bf40bf4e413",
   "metadata": {},
   "source": [
    "### Buy-One-Get-One-Free If a customer buys an even number of items, they get half of them for free. Otherwise, they pay for all. Calculate the number of items the customer has to pay for. "
   ]
  },
  {
   "cell_type": "code",
   "execution_count": 26,
   "id": "8552bba5-9dd9-4546-b1b2-ce6b74f0ebbd",
   "metadata": {},
   "outputs": [
    {
     "name": "stdin",
     "output_type": "stream",
     "text": [
      "Enter the number of items purchased:  84\n"
     ]
    },
    {
     "name": "stdout",
     "output_type": "stream",
     "text": [
      "You bought an even number of items. You only have to pay for 42 items.\n",
      "Number of items you need to pay for: 42\n"
     ]
    }
   ],
   "source": [
    "# Buy-One-Get-One-Free Program\n",
    "\n",
    "# Input: Number of items purchased\n",
    "num_items = int(input(\"Enter the number of items purchased: \"))\n",
    "\n",
    "# Calculate the number of items to pay for\n",
    "if num_items % 2 == 0:  # Even number of items\n",
    "    items_to_pay = num_items // 2\n",
    "    print(f\"You bought an even number of items. You only have to pay for {items_to_pay} items.\")\n",
    "else:  # Odd number of items\n",
    "    items_to_pay = num_items\n",
    "    print(f\"You bought an odd number of items. You have to pay for all {items_to_pay} items.\")\n",
    "\n",
    "# Display the result\n",
    "print(f\"Number of items you need to pay for: {items_to_pay}\")\n"
   ]
  },
  {
   "cell_type": "markdown",
   "id": "278953b3-3062-4e6f-a8b0-aa1bb638cc11",
   "metadata": {},
   "source": [
    "### Sales Tax If the price of an item is greater than $500, apply a luxury tax of 15%. Otherwise, apply a standard tax of 8%. Display the total price after tax. "
   ]
  },
  {
   "cell_type": "code",
   "execution_count": 32,
   "id": "77e54820-5d54-47db-91fb-3067abd50017",
   "metadata": {},
   "outputs": [
    {
     "name": "stdin",
     "output_type": "stream",
     "text": [
      "Enter the price of the item: $ 500\n"
     ]
    },
    {
     "name": "stdout",
     "output_type": "stream",
     "text": [
      "This item qualifies for a standard tax of 8%.\n",
      "Tax applied: $ 40.00\n",
      "The total price after tax is: $ 540.00\n"
     ]
    }
   ],
   "source": [
    "# Sales Tax Program\n",
    "\n",
    "# Input: Price of the item\n",
    "item_price = float(input(\"Enter the price of the item: $\"))\n",
    "\n",
    "# Determine and calculate the tax based on the item's price\n",
    "if item_price > 500:\n",
    "    tax = item_price * 0.15  # 15% luxury tax\n",
    "    print(\"This item qualifies for a luxury tax of 15%.\")\n",
    "else:\n",
    "    tax = item_price * 0.08  # 8% standard tax\n",
    "    print(\"This item qualifies for a standard tax of 8%.\")\n",
    "\n",
    "# Calculate total price after tax\n",
    "total_price = item_price + tax\n",
    "\n",
    "# Display the tax amount and the total price\n",
    "print(f\"Tax applied: $ {tax:.2f}\")\n",
    "print(f\"The total price after tax is: $ {total_price:.2f}\")\n"
   ]
  },
  {
   "cell_type": "markdown",
   "id": "8f7a6a86-9505-4b95-8eb1-54cb1e637ed0",
   "metadata": {},
   "source": [
    "### If a person's annual income is above $50,000, they pay 20% tax. Otherwise, they pay 10%. Calculate and display the tax amount."
   ]
  },
  {
   "cell_type": "code",
   "execution_count": 37,
   "id": "4465aea4-b59a-4960-bcce-80f3d7c11c30",
   "metadata": {},
   "outputs": [
    {
     "name": "stdin",
     "output_type": "stream",
     "text": [
      "Enter your annual income: $ 120000\n"
     ]
    },
    {
     "name": "stdout",
     "output_type": "stream",
     "text": [
      "Your income qualifies for a 20% tax rate.\n",
      "Tax amount: $ 24000.00\n"
     ]
    }
   ],
   "source": [
    "# Income Tax Program\n",
    "\n",
    "# Input: Annual income\n",
    "annual_income = float(input(\"Enter your annual income: $\"))\n",
    "\n",
    "# Determine and calculate the tax based on income\n",
    "if annual_income > 50000:\n",
    "    tax = annual_income * 0.20  # 20% tax for income above $50,000\n",
    "    print(\"Your income qualifies for a 20% tax rate.\")\n",
    "else:\n",
    "    tax = annual_income * 0.10  # 10% tax for income $50,000 or below\n",
    "    print(\"Your income qualifies for a 10% tax rate.\")\n",
    "\n",
    "# Display the tax amount\n",
    "print(f\"Tax amount: $ {tax:.2f}\")\n"
   ]
  },
  {
   "cell_type": "markdown",
   "id": "4bfdd6ab-5e37-4e29-8833-af1a7cc59fbf",
   "metadata": {},
   "source": [
    "### Tax Bracket Write a program to categorize a person into tax brackets: Income < $30,000: \"Low Tax\" □ $30,000 ≤ Income < $100,000: \"Medium Tax\"☐ Income > $100,000: \"High Tax\" \n"
   ]
  },
  {
   "cell_type": "code",
   "execution_count": 40,
   "id": "61f64396-65ff-45e9-9fa5-f2e9fd44e848",
   "metadata": {},
   "outputs": [
    {
     "name": "stdin",
     "output_type": "stream",
     "text": [
      "Enter your annual income: $ 12000\n"
     ]
    },
    {
     "name": "stdout",
     "output_type": "stream",
     "text": [
      "Your tax bracket is: Low Tax\n"
     ]
    }
   ],
   "source": [
    "# Tax Bracket Program\n",
    "\n",
    "# Input: Annual income\n",
    "annual_income = float(input(\"Enter your annual income: $\"))\n",
    "\n",
    "# Determine the tax bracket\n",
    "if annual_income < 30000:\n",
    "    tax_bracket = \"Low Tax\"\n",
    "elif 30000 <= annual_income < 100000:\n",
    "    tax_bracket = \"Medium Tax\"\n",
    "else:\n",
    "    tax_bracket = \"High Tax\"\n",
    "\n",
    "# Display the tax bracket\n",
    "print(f\"Your tax bracket is: {tax_bracket}\")\n"
   ]
  },
  {
   "cell_type": "markdown",
   "id": "ef335739-7f68-4f58-9333-527dcf3e787d",
   "metadata": {},
   "source": [
    "### VAT Calculation If the item is marked as essential (is_essential  =  True), apply a  VAT of 5%. Otherwise, apply a VAT of 12%. Display the final price.  "
   ]
  },
  {
   "cell_type": "code",
   "execution_count": 42,
   "id": "edd627e5-4ec4-4bcf-8940-95451103fa08",
   "metadata": {},
   "outputs": [
    {
     "name": "stdin",
     "output_type": "stream",
     "text": [
      "Is the item essential? (yes or no):  yes\n",
      "Enter the price of the item: $ 45\n"
     ]
    },
    {
     "name": "stdout",
     "output_type": "stream",
     "text": [
      "This is an essential item. A VAT of 5% is applied.\n",
      "VAT applied: $ 2.25\n",
      "The final price after VAT is: $ 47.25\n"
     ]
    }
   ],
   "source": [
    "# VAT Calculation Program\n",
    "\n",
    "# Input: Check if the item is essential and its price\n",
    "is_essential = input(\"Is the item essential? (yes or no): \").strip().lower() == \"yes\"\n",
    "item_price = float(input(\"Enter the price of the item: $\"))\n",
    "\n",
    "# Calculate VAT based on the item's type\n",
    "if is_essential:\n",
    "    vat = item_price * 0.05  # 5% VAT for essential items\n",
    "    print(\"This is an essential item. A VAT of 5% is applied.\")\n",
    "else:\n",
    "    vat = item_price * 0.12  # 12% VAT for non-essential items\n",
    "    print(\"This is a non-essential item. A VAT of 12% is applied.\")\n",
    "\n",
    "# Calculate the final price after VAT\n",
    "final_price = item_price + vat\n",
    "\n",
    "# Display the VAT and the final price\n",
    "print(f\"VAT applied: $ {vat:.2f}\")\n",
    "print(f\"The final price after VAT is: $ {final_price:.2f}\")\n"
   ]
  },
  {
   "cell_type": "markdown",
   "id": "15379f7f-a0de-4019-bd92-062e5f685273",
   "metadata": {},
   "source": [
    "### Tax-Free Day  If today is a tax-free day (tax_free price. Otherwise, add a 7% tax. "
   ]
  },
  {
   "cell_type": "code",
   "execution_count": 44,
   "id": "2b0d8958-1ed3-41d8-9d45-537dac6f395e",
   "metadata": {},
   "outputs": [
    {
     "name": "stdin",
     "output_type": "stream",
     "text": [
      "Is today a tax-free day? (yes or no):  yes\n",
      "Enter the price of the item: $ 542541541\n"
     ]
    },
    {
     "name": "stdout",
     "output_type": "stream",
     "text": [
      "Today is a tax-free day! No tax will be applied.\n",
      "The final price is: $ 542541541.00\n"
     ]
    }
   ],
   "source": [
    "# Tax-Free Day Program\n",
    "\n",
    "# Input: Check if today is a tax-free day and the price of the item\n",
    "is_tax_free_day = input(\"Is today a tax-free day? (yes or no): \").strip().lower() == \"yes\"\n",
    "item_price = float(input(\"Enter the price of the item: $\"))\n",
    "\n",
    "# Calculate the price based on tax-free day status\n",
    "if is_tax_free_day:\n",
    "    print(\"Today is a tax-free day! No tax will be applied.\")\n",
    "    final_price = item_price  # No tax applied\n",
    "else:\n",
    "    tax = item_price * 0.07  # 7% tax\n",
    "    final_price = item_price + tax\n",
    "    print(\"Today is not a tax-free day. A 7% tax is applied.\")\n",
    "\n",
    "# Display the final price\n",
    "print(f\"The final price is: $ {final_price:.2f}\")\n"
   ]
  },
  {
   "cell_type": "markdown",
   "id": "a87e1e0b-a1a7-4ea5-975e-9897af653eb6",
   "metadata": {},
   "source": [
    "### Free Shipping  If the total purchase amount is more than 50 dollars, offer free shipping; otherwise, charge 5 dollars for shipping. Display the total amount including shipping."
   ]
  },
  {
   "cell_type": "code",
   "execution_count": 46,
   "id": "e641a400-2afd-4f26-a56e-17cae47a3c9e",
   "metadata": {},
   "outputs": [
    {
     "name": "stdin",
     "output_type": "stream",
     "text": [
      "Is today a tax-free day? (yes or no):  js\n",
      "Enter the price of the item: $ 4545\n"
     ]
    },
    {
     "name": "stdout",
     "output_type": "stream",
     "text": [
      "Today is not a tax-free day. A 7% tax is applied.\n",
      "The final price is: $ 4863.15\n"
     ]
    }
   ],
   "source": [
    "# Tax-Free Day Program\n",
    "\n",
    "# Input: Check if today is a tax-free day and the price of the item\n",
    "is_tax_free_day = input(\"Is today a tax-free day? (yes or no): \").strip().lower() == \"yes\"\n",
    "item_price = float(input(\"Enter the price of the item: $\"))\n",
    "\n",
    "# Calculate the price based on tax-free day status\n",
    "if is_tax_free_day:\n",
    "    print(\"Today is a tax-free day! No tax will be applied.\")\n",
    "    final_price = item_price  # No tax applied\n",
    "else:\n",
    "    tax = item_price * 0.07  # 7% tax\n",
    "    final_price = item_price + tax\n",
    "    print(\"Today is not a tax-free day. A 7% tax is applied.\")\n",
    "\n",
    "# Display the final price\n",
    "print(f\"The final price is: $ {final_price:.2f}\")\n"
   ]
  },
  {
   "cell_type": "markdown",
   "id": "0e65a7a9-5da2-4dbb-91f3-e0eefa42db9a",
   "metadata": {},
   "source": [
    "### If a customer enters the correct discount code (DISCOUNT10), apply a 10% discount. Otherwise, charge the full amount. "
   ]
  },
  {
   "cell_type": "code",
   "execution_count": 49,
   "id": "bce85daa-097d-417d-983b-75ea63fbaaa2",
   "metadata": {},
   "outputs": [
    {
     "name": "stdin",
     "output_type": "stream",
     "text": [
      "Enter the total purchase amount: $ 5454545\n",
      "Enter the discount code:  44\n"
     ]
    },
    {
     "name": "stdout",
     "output_type": "stream",
     "text": [
      "Invalid discount code. No discount applied.\n",
      "The final price is: $ 5454545.00\n"
     ]
    }
   ],
   "source": [
    "# Discount Code Program\n",
    "\n",
    "# Input: Total price and discount code\n",
    "total_price = float(input(\"Enter the total purchase amount: $\"))\n",
    "discount_code = input(\"Enter the discount code: \").strip()\n",
    "\n",
    "# Check if the discount code is correct\n",
    "if discount_code == \"DISCOUNT10\":\n",
    "    discount = total_price * 0.10  # 10% discount\n",
    "    final_price = total_price - discount\n",
    "    print(\"The discount code is valid. A 10% discount has been applied.\")\n",
    "else:\n",
    "    final_price = total_price\n",
    "    print(\"Invalid discount code. No discount applied.\")\n",
    "\n",
    "# Display the final price\n",
    "print(f\"The final price is: $ {final_price:.2f}\")\n"
   ]
  },
  {
   "cell_type": "markdown",
   "id": "c5350e74-aacd-430c-8c50-15f237ae20df",
   "metadata": {},
   "source": [
    "###  Tiered Discounts Apply discounts based on the total price: $0 $50: No discount. $50-$100: 10% discount. Over $100: 20% discount. \n"
   ]
  },
  {
   "cell_type": "code",
   "execution_count": 51,
   "id": "c632b563-6a28-4dbd-adc4-f2d6a74ab346",
   "metadata": {},
   "outputs": [
    {
     "name": "stdin",
     "output_type": "stream",
     "text": [
      "Enter the total purchase amount: $ 25252\n"
     ]
    },
    {
     "name": "stdout",
     "output_type": "stream",
     "text": [
      "You qualify for a 20% discount.\n",
      "Discount applied: $ 5050.40\n",
      "The final price after discount is: $ 20201.60\n"
     ]
    }
   ],
   "source": [
    "# Tiered Discounts Program\n",
    "\n",
    "# Input: Total purchase amount\n",
    "total_price = float(input(\"Enter the total purchase amount: $\"))\n",
    "\n",
    "# Determine the discount based on the specified tiers\n",
    "if total_price > 100:\n",
    "    discount = total_price * 0.20  # 20% discount for over $100\n",
    "    print(\"You qualify for a 20% discount.\")\n",
    "elif 50 <= total_price <= 100:\n",
    "    discount = total_price * 0.10  # 10% discount for $50 to $100\n",
    "    print(\"You qualify for a 10% discount.\")\n",
    "else:\n",
    "    discount = 0  # No discount for $0 to $50\n",
    "    print(\"No discount applied for purchases under $50.\")\n",
    "\n",
    "# Calculate the final price\n",
    "final_price = total_price - discount\n",
    "\n",
    "# Display the discount and final price\n",
    "print(f\"Discount applied: $ {discount:.2f}\")\n",
    "print(f\"The final price after discount is: $ {final_price:.2f}\")\n"
   ]
  },
  {
   "cell_type": "markdown",
   "id": "9c21376b-afab-46ad-981e-0d92c19afad9",
   "metadata": {},
   "source": [
    "### Minimum Purchase Requirement If the total amount is less than 20 dollars, display a message: \"Minimum purchase of 20 dollars is required.\" Otherwise, display the total amount. "
   ]
  },
  {
   "cell_type": "code",
   "execution_count": 55,
   "id": "449db900-a0e9-4506-9ae7-608505d8232c",
   "metadata": {},
   "outputs": [
    {
     "name": "stdin",
     "output_type": "stream",
     "text": [
      "Enter the total purchase amount: $ 18\n"
     ]
    },
    {
     "name": "stdout",
     "output_type": "stream",
     "text": [
      "Minimum purchase of 20 dollars is required.\n"
     ]
    }
   ],
   "source": [
    "# Minimum Purchase Requirement Program\n",
    "\n",
    "# Input: Total purchase amount\n",
    "total_price = float(input(\"Enter the total purchase amount: $\"))\n",
    "\n",
    "# Check if the total amount meets the minimum purchase requirement\n",
    "if total_price < 20:\n",
    "    print(\"Minimum purchase of 20 dollars is required.\")\n",
    "else:\n",
    "    print(f\"The total purchase amount is: $ {total_price:.2f}\")\n"
   ]
  },
  {
   "cell_type": "markdown",
   "id": "694de5b0-3238-4d93-b6f6-5430b7e60d9b",
   "metadata": {},
   "source": [
    "### Loyalty Points If a customer is a loyal member (is_loyal True), they earn double loyalty points for their purchase. Otherwise, they earn standard points. \n"
   ]
  },
  {
   "cell_type": "code",
   "execution_count": 57,
   "id": "419f5002-2a69-4bc9-8ecf-b40ba6d548ab",
   "metadata": {},
   "outputs": [
    {
     "name": "stdin",
     "output_type": "stream",
     "text": [
      "Enter the total purchase amount: $ 25000\n",
      "Is the customer a loyal member? (yes or no):  yes\n"
     ]
    },
    {
     "name": "stdout",
     "output_type": "stream",
     "text": [
      "You are a loyal member and earn double loyalty points!\n",
      "Loyalty points earned: 50000\n"
     ]
    }
   ],
   "source": [
    "# Loyalty Points Program\n",
    "\n",
    "# Input: Total purchase amount and loyalty status\n",
    "total_price = float(input(\"Enter the total purchase amount: $\"))\n",
    "is_loyal = input(\"Is the customer a loyal member? (yes or no): \").strip().lower() == \"yes\"\n",
    "\n",
    "# Determine loyalty points\n",
    "if is_loyal:\n",
    "    loyalty_points = total_price * 2  # Double points for loyal members\n",
    "    print(\"You are a loyal member and earn double loyalty points!\")\n",
    "else:\n",
    "    loyalty_points = total_price  # Standard points for non-loyal members\n",
    "    print(\"You earn standard loyalty points.\")\n",
    "\n",
    "# Display loyalty points earned\n",
    "print(f\"Loyalty points earned: {loyalty_points:.0f}\")\n"
   ]
  },
  {
   "cell_type": "markdown",
   "id": "f2015346-5864-4750-8936-6cedc68d6f24",
   "metadata": {},
   "source": [
    "### Travel Discount If a person is traveling more than 500 miles, offer a 20% discount on ticket price. Otherwise, charge the full amount."
   ]
  },
  {
   "cell_type": "code",
   "execution_count": 59,
   "id": "b55e1198-1580-401f-9b83-1915816cb85d",
   "metadata": {},
   "outputs": [
    {
     "name": "stdin",
     "output_type": "stream",
     "text": [
      "Enter the distance traveled (in miles):  400\n",
      "Enter the ticket price: $ 454\n"
     ]
    },
    {
     "name": "stdout",
     "output_type": "stream",
     "text": [
      "You are traveling 500 miles or less and do not qualify for a discount.\n",
      "The final ticket price is: $ 454.00\n"
     ]
    }
   ],
   "source": [
    "# Travel Discount Program\n",
    "\n",
    "# Input: Distance traveled and ticket price\n",
    "distance = float(input(\"Enter the distance traveled (in miles): \"))\n",
    "ticket_price = float(input(\"Enter the ticket price: $\"))\n",
    "\n",
    "# Check if the distance qualifies for a discount\n",
    "if distance > 500:\n",
    "    discount = ticket_price * 0.20  # 20% discount\n",
    "    final_price = ticket_price - discount\n",
    "    print(f\"You are traveling more than 500 miles and qualify for a 20% discount.\")\n",
    "    print(f\"Discount applied: $ {discount:.2f}\")\n",
    "else:\n",
    "    final_price = ticket_price\n",
    "    print(\"You are traveling 500 miles or less and do not qualify for a discount.\")\n",
    "\n",
    "# Display the final ticket price\n",
    "print(f\"The final ticket price is: $ {final_price:.2f}\")\n"
   ]
  },
  {
   "cell_type": "markdown",
   "id": "0661a8de-3799-4614-b81b-1466933d649f",
   "metadata": {},
   "source": [
    "### Child or Senior Discount If a passenger is under 12 or over 60 years old, apply a 15% discount on the ticket price. Otherwise, charge the full price. \n"
   ]
  },
  {
   "cell_type": "code",
   "execution_count": 61,
   "id": "0cf73fb8-14ee-40d8-80fe-c132739849af",
   "metadata": {},
   "outputs": [
    {
     "name": "stdin",
     "output_type": "stream",
     "text": [
      "Enter the passenger's age:  74\n",
      "Enter the ticket price: $ 485\n"
     ]
    },
    {
     "name": "stdout",
     "output_type": "stream",
     "text": [
      "You qualify for a 15% discount!\n",
      "Discount applied: $ 72.75\n",
      "The final ticket price is: $ 412.25\n"
     ]
    }
   ],
   "source": [
    "# Child or Senior Discount Program\n",
    "\n",
    "# Input: Passenger age and ticket price\n",
    "age = int(input(\"Enter the passenger's age: \"))\n",
    "ticket_price = float(input(\"Enter the ticket price: $\"))\n",
    "\n",
    "# Check if the passenger qualifies for a discount\n",
    "if age < 12 or age > 60:\n",
    "    discount = ticket_price * 0.15  # 15% discount\n",
    "    final_price = ticket_price - discount\n",
    "    print(\"You qualify for a 15% discount!\")\n",
    "    print(f\"Discount applied: $ {discount:.2f}\")\n",
    "else:\n",
    "    final_price = ticket_price\n",
    "    print(\"You do not qualify for a discount.\")\n",
    "\n",
    "# Display the final ticket price\n",
    "print(f\"The final ticket price is: $ {final_price:.2f}\")\n"
   ]
  },
  {
   "cell_type": "markdown",
   "id": "483b8899-387f-4d91-b7f1-1bcd4672a3d4",
   "metadata": {},
   "source": [
    "### Ticket Type Pricing  If the ticket is for a weekend (is_weekend = True), add a 10% surcharge. Otherwise, charge the standard price. "
   ]
  },
  {
   "cell_type": "code",
   "execution_count": 63,
   "id": "2e0e6ea8-5053-4ae4-bd85-5cff9d8a27f3",
   "metadata": {},
   "outputs": [
    {
     "name": "stdin",
     "output_type": "stream",
     "text": [
      "Is the ticket for a weekend? (yes or no):  yes\n",
      "Enter the ticket price: $ 80000\n"
     ]
    },
    {
     "name": "stdout",
     "output_type": "stream",
     "text": [
      "The ticket is for a weekend. A 10% surcharge has been applied.\n",
      "Surcharge added: $ 8000.00\n",
      "The final ticket price is: $ 88000.00\n"
     ]
    }
   ],
   "source": [
    "# Ticket Type Pricing Program\n",
    "\n",
    "# Input: Check if the ticket is for a weekend and ticket price\n",
    "is_weekend = input(\"Is the ticket for a weekend? (yes or no): \").strip().lower() == \"yes\"\n",
    "ticket_price = float(input(\"Enter the ticket price: $\"))\n",
    "\n",
    "# Calculate the final price based on the weekend status\n",
    "if is_weekend:\n",
    "    surcharge = ticket_price * 0.10  # 10% surcharge\n",
    "    final_price = ticket_price + surcharge\n",
    "    print(\"The ticket is for a weekend. A 10% surcharge has been applied.\")\n",
    "    print(f\"Surcharge added: $ {surcharge:.2f}\")\n",
    "else:\n",
    "    final_price = ticket_price\n",
    "    print(\"The ticket is not for a weekend. No surcharge applied.\")\n",
    "\n",
    "# Display the final ticket price\n",
    "print(f\"The final ticket price is: $ {final_price:.2f}\")\n"
   ]
  },
  {
   "cell_type": "markdown",
   "id": "9ee02951-17ac-4bdb-8641-7a81dd2e4548",
   "metadata": {},
   "source": [
    "### Baggage Fee If the total baggage weight is over 20kg, charge $10 per extra kilogram. Otherwise, no extra fee. "
   ]
  },
  {
   "cell_type": "code",
   "execution_count": 65,
   "id": "59979d30-38dc-4283-9663-cc4a794577f4",
   "metadata": {},
   "outputs": [
    {
     "name": "stdin",
     "output_type": "stream",
     "text": [
      "Enter the total baggage weight (in kg):  52\n"
     ]
    },
    {
     "name": "stdout",
     "output_type": "stream",
     "text": [
      "Baggage exceeds the limit by 32.00 kg.\n",
      "Extra fee for overweight baggage: $ 320.00\n",
      "The total baggage fee is: $ 320.00\n"
     ]
    }
   ],
   "source": [
    "# Baggage Fee Calculation Program\n",
    "\n",
    "# Input: Total baggage weight\n",
    "baggage_weight = float(input(\"Enter the total baggage weight (in kg): \"))\n",
    "\n",
    "# Check if the baggage weight exceeds the limit\n",
    "if baggage_weight > 20:\n",
    "    extra_weight = baggage_weight - 20  # Calculate extra weight\n",
    "    extra_fee = extra_weight * 10  # $10 per extra kg\n",
    "    print(f\"Baggage exceeds the limit by {extra_weight:.2f} kg.\")\n",
    "    print(f\"Extra fee for overweight baggage: $ {extra_fee:.2f}\")\n",
    "else:\n",
    "    extra_fee = 0  # No extra fee for 20kg or less\n",
    "    print(\"Baggage is within the allowed weight limit. No extra fee.\")\n",
    "\n",
    "# Display the total fee\n",
    "print(f\"The total baggage fee is: $ {extra_fee:.2f}\")\n"
   ]
  },
  {
   "cell_type": "markdown",
   "id": "96442f97-0b8a-4613-a189-1df7f363c44e",
   "metadata": {},
   "source": [
    "### Early Bird Discount If a ticket is booked more than 30 days in advance, apply a 10% discount. Otherwise, charge the full price."
   ]
  },
  {
   "cell_type": "code",
   "execution_count": 67,
   "id": "36bb50fd-a54a-4392-a36b-68669543c7fb",
   "metadata": {},
   "outputs": [
    {
     "name": "stdin",
     "output_type": "stream",
     "text": [
      "Enter the number of days in advance the ticket is booked:  5\n",
      "Enter the ticket price: $ 550\n"
     ]
    },
    {
     "name": "stdout",
     "output_type": "stream",
     "text": [
      "The ticket does not qualify for an Early Bird Discount.\n",
      "The final ticket price is: $ 550.00\n"
     ]
    }
   ],
   "source": [
    "# Early Bird Discount Program\n",
    "\n",
    "# Input: Number of days in advance the ticket is booked and ticket price\n",
    "days_in_advance = int(input(\"Enter the number of days in advance the ticket is booked: \"))\n",
    "ticket_price = float(input(\"Enter the ticket price: $\"))\n",
    "\n",
    "# Check if the ticket qualifies for the Early Bird Discount\n",
    "if days_in_advance > 30:\n",
    "    discount = ticket_price * 0.10  # 10% discount\n",
    "    final_price = ticket_price - discount\n",
    "    print(\"The ticket qualifies for an Early Bird Discount of 10%.\")\n",
    "    print(f\"Discount applied: $ {discount:.2f}\")\n",
    "else:\n",
    "    final_price = ticket_price\n",
    "    print(\"The ticket does not qualify for an Early Bird Discount.\")\n",
    "\n",
    "# Display the final ticket price\n",
    "print(f\"The final ticket price is: $ {final_price:.2f}\")\n"
   ]
  },
  {
   "cell_type": "markdown",
   "id": "2015d0fd-0db6-4b70-9a36-b4833f44d3d6",
   "metadata": {},
   "source": [
    "### Pass or Fail If a student scores 40 or more, print \"Pass\". Otherwise, print \"Fail\". "
   ]
  },
  {
   "cell_type": "code",
   "execution_count": 69,
   "id": "f224b7a9-6d1a-4049-a957-606897f222df",
   "metadata": {},
   "outputs": [
    {
     "name": "stdin",
     "output_type": "stream",
     "text": [
      "Enter the student's score:  39\n"
     ]
    },
    {
     "name": "stdout",
     "output_type": "stream",
     "text": [
      "Fail\n"
     ]
    }
   ],
   "source": [
    "# Pass or Fail Program\n",
    "\n",
    "# Input: Student's score\n",
    "score = int(input(\"Enter the student's score: \"))\n",
    "\n",
    "# Check if the student passes or fails\n",
    "if score >= 40:\n",
    "    print(\"Pass\")\n",
    "else:\n",
    "    print(\"Fail\")\n"
   ]
  },
  {
   "cell_type": "markdown",
   "id": "c18fc269-29cb-4856-9765-ebd86a4d3aa2",
   "metadata": {},
   "source": [
    "### Grade Assignment Based on a student's score, assign grades: 90 and above: \"A\" □ 75–89: \"B\" ☐ 50–74: \"C\" □ Below 50: \"F\" \n",
    "\n"
   ]
  },
  {
   "cell_type": "code",
   "execution_count": null,
   "id": "2dd4402c-4d3e-4741-9b51-07e539dbf05b",
   "metadata": {},
   "outputs": [],
   "source": [
    "# Grade Assignment Program\n",
    "\n",
    "# Input: Student's score\n",
    "score = int(input(\"Enter the student's score: \"))\n",
    "\n",
    "# Determine the grade based on the score\n",
    "if score >= 90:\n",
    "    grade = \"A\"\n",
    "elif 75 <= score <= 89:\n",
    "    grade = \"B\"\n",
    "elif 50 <= score <= 74:\n",
    "    grade = \"C\"\n",
    "else:\n",
    "    grade = \"F\"\n",
    "\n",
    "# Output: Display the grade\n",
    "print(f\"The student's grade is: {grade}\")\n"
   ]
  },
  {
   "cell_type": "markdown",
   "id": "2a712e36-00a7-4b97-8760-bafb27c3edcf",
   "metadata": {},
   "source": [
    "### If a student completes all assignments, add 5 bonus marks to their score. Otherwise, no bonus marks. "
   ]
  },
  {
   "cell_type": "code",
   "execution_count": 71,
   "id": "9eeaab7d-74c5-4b9c-bed7-165375f443e9",
   "metadata": {},
   "outputs": [
    {
     "name": "stdin",
     "output_type": "stream",
     "text": [
      "Enter the student's score:  50\n",
      "Has the student completed all assignments? (yes or no):  yes\n"
     ]
    },
    {
     "name": "stdout",
     "output_type": "stream",
     "text": [
      "All assignments completed. 5 bonus marks added!\n",
      "The final score is: 55\n"
     ]
    }
   ],
   "source": [
    "# Bonus Marks Program\n",
    "\n",
    "# Input: Student's score and assignment completion status\n",
    "score = int(input(\"Enter the student's score: \"))\n",
    "completed_assignments = input(\"Has the student completed all assignments? (yes or no): \").strip().lower()\n",
    "\n",
    "# Add bonus marks if assignments are completed\n",
    "if completed_assignments == \"yes\":\n",
    "    score += 5  # Add 5 bonus marks\n",
    "    print(\"All assignments completed. 5 bonus marks added!\")\n",
    "else:\n",
    "    print(\"Assignments not completed. No bonus marks added.\")\n",
    "\n",
    "# Output: Display the final score\n",
    "print(f\"The final score is: {score}\")\n"
   ]
  },
  {
   "cell_type": "markdown",
   "id": "80e35c4c-5af5-4b51-a64d-78d6155a0902",
   "metadata": {},
   "source": [
    "### Attendance Eligibility  If a student's attendance is 75% or more, they are eligible to take the exam. Otherwise, they are not.  "
   ]
  },
  {
   "cell_type": "code",
   "execution_count": 73,
   "id": "b4bb67ac-2e08-402d-9380-96f9b734404d",
   "metadata": {},
   "outputs": [
    {
     "name": "stdin",
     "output_type": "stream",
     "text": [
      "Enter the student's attendance percentage:  84\n"
     ]
    },
    {
     "name": "stdout",
     "output_type": "stream",
     "text": [
      "The student is eligible to take the exam.\n"
     ]
    }
   ],
   "source": [
    "# Attendance Eligibility Program\n",
    "\n",
    "# Input: Student's attendance percentage\n",
    "attendance = float(input(\"Enter the student's attendance percentage: \"))\n",
    "\n",
    "# Check eligibility based on attendance\n",
    "if attendance >= 75:\n",
    "    print(\"The student is eligible to take the exam.\")\n",
    "else:\n",
    "    print(\"The student is not eligible to take the exam.\")\n"
   ]
  },
  {
   "cell_type": "markdown",
   "id": "4ae00d97-0e55-45a7-8356-03589f438b9d",
   "metadata": {},
   "source": [
    "### Scholarship Eligibility If a student's grade is \"A\" and their annual family income is below $30,000, they are eligible for a scholarship. Otherwise, they are not.  "
   ]
  },
  {
   "cell_type": "code",
   "execution_count": 78,
   "id": "5ef9fe98-3d5c-44f2-923d-11bbe0197f4b",
   "metadata": {},
   "outputs": [
    {
     "name": "stdin",
     "output_type": "stream",
     "text": [
      "Enter the student's grade (A, B, C, etc.):  a\n",
      "Enter the annual family income: $ 20000\n"
     ]
    },
    {
     "name": "stdout",
     "output_type": "stream",
     "text": [
      "The student is eligible for a scholarship.\n"
     ]
    }
   ],
   "source": [
    "# Scholarship Eligibility Program\n",
    "\n",
    "# Input: Student's grade and annual family income\n",
    "grade = input(\"Enter the student's grade (A, B, C, etc.): \").strip().upper()\n",
    "family_income = float(input(\"Enter the annual family income: $\"))\n",
    "\n",
    "# Check eligibility for scholarship\n",
    "if grade == \"A\" and family_income < 30000:\n",
    "    print(\"The student is eligible for a scholarship.\")\n",
    "else:\n",
    "    print(\"The student is not eligible for a scholarship.\")\n"
   ]
  },
  {
   "cell_type": "code",
   "execution_count": null,
   "id": "a69caee5-72c5-46c0-9966-dc4b318a3dfe",
   "metadata": {},
   "outputs": [],
   "source": []
  }
 ],
 "metadata": {
  "kernelspec": {
   "display_name": "Python 3 (ipykernel)",
   "language": "python",
   "name": "python3"
  },
  "language_info": {
   "codemirror_mode": {
    "name": "ipython",
    "version": 3
   },
   "file_extension": ".py",
   "mimetype": "text/x-python",
   "name": "python",
   "nbconvert_exporter": "python",
   "pygments_lexer": "ipython3",
   "version": "3.12.7"
  }
 },
 "nbformat": 4,
 "nbformat_minor": 5
}
