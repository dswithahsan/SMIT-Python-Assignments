{
 "cells": [
  {
   "cell_type": "markdown",
   "id": "5947dfd7-030c-46ab-a7f5-f57d4b43767e",
   "metadata": {},
   "source": [
    "# LIST ASSIGNMENT"
   ]
  },
  {
   "cell_type": "code",
   "execution_count": 2,
   "id": "14676dfe-e150-455a-9309-44c43af700f9",
   "metadata": {},
   "outputs": [
    {
     "name": "stdin",
     "output_type": "stream",
     "text": [
      "Enter a list of elements separated by spaces:   a s v g y g\n"
     ]
    },
    {
     "name": "stdout",
     "output_type": "stream",
     "text": [
      "Alternate elements of the list: ['a', 'v', 'y']\n"
     ]
    }
   ],
   "source": [
    "def alternate_elements():\n",
    "    user_list = input(\"Enter a list of elements separated by spaces: \").split()\n",
    "    print(\"Alternate elements of the list:\", user_list[::2])\n",
    "\n",
    "alternate_elements()\n"
   ]
  },
  {
   "cell_type": "code",
   "execution_count": 6,
   "id": "52b94a4b-65da-44b7-a515-a3e10dbc1184",
   "metadata": {},
   "outputs": [
    {
     "name": "stdin",
     "output_type": "stream",
     "text": [
      "Enter a list of elements separated by spaces:  a sd f g sd\n"
     ]
    },
    {
     "name": "stdout",
     "output_type": "stream",
     "text": [
      "Reversed list: ['sd', 'g', 'f', 'sd', 'a']\n"
     ]
    }
   ],
   "source": [
    "def reverse_list():\n",
    "    user_list = input(\"Enter a list of elements separated by spaces: \").split()\n",
    "    reversed_list = user_list[::-1]\n",
    "    print(\"Reversed list:\", reversed_list)\n",
    "\n",
    "reverse_list()\n"
   ]
  },
  {
   "cell_type": "code",
   "execution_count": 23,
   "id": "208ca3d3-34a8-4999-8e0c-f7d7f92f7004",
   "metadata": {},
   "outputs": [
    {
     "name": "stdin",
     "output_type": "stream",
     "text": [
      "Enter numbers separated by spaces:  1 3 57 7 \n"
     ]
    },
    {
     "name": "stdout",
     "output_type": "stream",
     "text": [
      "Largest number in the list: 57\n"
     ]
    }
   ],
   "source": [
    "def find_largest():\n",
    "    user_list = list(map(int, input(\"Enter numbers separated by spaces: \").split()))\n",
    "    largest = user_list[0]\n",
    "    for num in user_list:\n",
    "        if num > largest:\n",
    "            largest = num\n",
    "    print(\"Largest number in the list:\", largest)\n",
    "\n",
    "find_largest()\n"
   ]
  },
  {
   "cell_type": "code",
   "execution_count": 16,
   "id": "190ad74d-31eb-45a6-99f3-224ce1d52a23",
   "metadata": {},
   "outputs": [
    {
     "name": "stdin",
     "output_type": "stream",
     "text": [
      "Enter a list of elements separated by spaces:  s d\n"
     ]
    },
    {
     "name": "stdout",
     "output_type": "stream",
     "text": [
      "Rotated list: ['d', 's']\n"
     ]
    }
   ],
   "source": [
    "def rotate_list():\n",
    "    user_list = input(\"Enter a list of elements separated by spaces: \").split()\n",
    "    rotated_list = user_list[1:] + user_list[:1]\n",
    "    print(\"Rotated list:\", rotated_list)\n",
    "\n",
    "rotate_list()\n"
   ]
  },
  {
   "cell_type": "code",
   "execution_count": 19,
   "id": "ccb18a05-81bf-43b9-8902-fe3cbc4541f4",
   "metadata": {},
   "outputs": [
    {
     "name": "stdin",
     "output_type": "stream",
     "text": [
      "Enter a string:  s a e t x\n",
      "Enter the word to delete:  a\n"
     ]
    },
    {
     "name": "stdout",
     "output_type": "stream",
     "text": [
      "String after deletion: s  e t x\n"
     ]
    }
   ],
   "source": [
    "def delete_word():\n",
    "    user_string = input(\"Enter a string: \")\n",
    "    word_to_delete = input(\"Enter the word to delete: \")\n",
    "    modified_string = user_string.replace(word_to_delete, \"\").strip()\n",
    "    print(\"String after deletion:\", modified_string)\n",
    "\n",
    "delete_word()\n"
   ]
  },
  {
   "cell_type": "code",
   "execution_count": 25,
   "id": "ea615a47-c45d-4607-9942-b0dbe002208d",
   "metadata": {},
   "outputs": [
    {
     "name": "stdin",
     "output_type": "stream",
     "text": [
      "Enter a date in mm/dd/yyyy format:  9/3/2005\n"
     ]
    },
    {
     "name": "stdout",
     "output_type": "stream",
     "text": [
      "Formatted date: September 3, 2005\n"
     ]
    }
   ],
   "source": [
    "def reformat_date():\n",
    "    date_input = input(\"Enter a date in mm/dd/yyyy format: \")\n",
    "    month, day, year = date_input.split('/')\n",
    "    months = [\n",
    "        \"January\", \"February\", \"March\", \"April\", \"May\", \"June\",\n",
    "        \"July\", \"August\", \"September\", \"October\", \"November\", \"December\"\n",
    "    ]\n",
    "    print(f\"Formatted date: {months[int(month) - 1]} {int(day)}, {year}\")\n",
    "\n",
    "reformat_date()\n"
   ]
  },
  {
   "cell_type": "code",
   "execution_count": 27,
   "id": "99e796e4-04f9-499b-83ef-1f22105cb51d",
   "metadata": {},
   "outputs": [
    {
     "name": "stdin",
     "output_type": "stream",
     "text": [
      "Enter a sentence:  my name is ahsan\n"
     ]
    },
    {
     "name": "stdout",
     "output_type": "stream",
     "text": [
      "Capitalized sentence: My Name Is Ahsan\n"
     ]
    }
   ],
   "source": [
    "def capitalize_words():\n",
    "    user_string = input(\"Enter a sentence: \")\n",
    "    capitalized = ' '.join(word.capitalize() for word in user_string.split())\n",
    "    print(\"Capitalized sentence:\", capitalized)\n",
    "\n",
    "capitalize_words()\n",
    "\n"
   ]
  },
  {
   "cell_type": "code",
   "execution_count": 29,
   "id": "b1e043fa-d20f-463f-b524-d5e36ad9954e",
   "metadata": {},
   "outputs": [
    {
     "name": "stdin",
     "output_type": "stream",
     "text": [
      "Enter the number of rows:  4\n",
      "Enter elements of row 1 separated by spaces:  2\n",
      "Enter elements of row 2 separated by spaces:  2\n",
      "Enter elements of row 3 separated by spaces:  1\n",
      "Enter elements of row 4 separated by spaces:  1\n"
     ]
    },
    {
     "name": "stdout",
     "output_type": "stream",
     "text": [
      "Sum of row 1 = 2\n",
      "Sum of row 2 = 2\n",
      "Sum of row 3 = 1\n",
      "Sum of row 4 = 1\n"
     ]
    }
   ],
   "source": [
    "def sum_rows():\n",
    "    rows = int(input(\"Enter the number of rows: \"))\n",
    "    matrix = []\n",
    "    for i in range(rows):\n",
    "        row = list(map(int, input(f\"Enter elements of row {i + 1} separated by spaces: \").split()))\n",
    "        matrix.append(row)\n",
    "    for i, row in enumerate(matrix):\n",
    "        print(f\"Sum of row {i + 1} =\", sum(row))\n",
    "\n",
    "sum_rows()\n"
   ]
  },
  {
   "cell_type": "code",
   "execution_count": 48,
   "id": "cd8e9f8c-be8e-4b59-a0bb-8370fc4e0189",
   "metadata": {},
   "outputs": [
    {
     "name": "stdin",
     "output_type": "stream",
     "text": [
      "Enter number of rows and columns separated by space:  2 2 \n"
     ]
    },
    {
     "name": "stdout",
     "output_type": "stream",
     "text": [
      "Enter first matrix:\n"
     ]
    },
    {
     "name": "stdin",
     "output_type": "stream",
     "text": [
      " 1 2 3 4\n",
      " 1 2 3 4\n"
     ]
    },
    {
     "name": "stdout",
     "output_type": "stream",
     "text": [
      "Enter second matrix:\n"
     ]
    },
    {
     "name": "stdin",
     "output_type": "stream",
     "text": [
      " 2 2 \n",
      " 1 2\n"
     ]
    },
    {
     "name": "stdout",
     "output_type": "stream",
     "text": [
      "Sum of matrices:\n",
      "3 4\n",
      "2 4\n"
     ]
    }
   ],
   "source": [
    "def add_matrices():\n",
    "    rows, cols = map(int, input(\"Enter number of rows and columns separated by space: \").split())\n",
    "    print(\"Enter first matrix:\")\n",
    "    matrix1 = [[int(x) for x in input().split()] for _ in range(rows)]\n",
    "    print(\"Enter second matrix:\")\n",
    "    matrix2 = [[int(x) for x in input().split()] for _ in range(rows)]\n",
    "    result = [[matrix1[i][j] + matrix2[i][j] for j in range(cols)] for i in range(rows)]\n",
    "    print(\"Sum of matrices:\")\n",
    "    for row in result:\n",
    "        print(' '.join(map(str, row)))\n",
    "\n",
    "add_matrices()\n"
   ]
  },
  {
   "cell_type": "code",
   "execution_count": null,
   "id": "e6f4b290-fd4d-47a2-a7da-0a6c92d5fc95",
   "metadata": {},
   "outputs": [],
   "source": [
    "def multiply_matrices():\n",
    "    rows1, cols1 = map(int, input(\"Enter rows and columns of first matrix: \").split())\n",
    "    print(\"Enter first matrix:\")\n",
    "    matrix1 = [[int(x) for x in input().split()] for _ in range(rows1)]\n",
    "\n",
    "    rows2, cols2 = map(int, input(\"Enter rows and columns of second matrix: \").split())\n",
    "    print(\"Enter second matrix:\")\n",
    "    matrix2 = [[int(x) for x in input().split()] for _ in range(rows2)]\n",
    "\n",
    "    if cols1 != rows2:\n",
    "        print(\"Matrix multiplication is not possible with these dimensions.\")\n",
    "        return\n",
    "\n",
    "    result = [[sum(matrix1[i][k] * matrix2[k][j] for k in range(cols1)) for j in range(cols2)] for i in range(rows1)]\n",
    "    print(\"Product of matrices:\")\n",
    "    for row in result:\n",
    "        print(' '.join(map(str, row)))\n",
    "\n",
    "multiply_matrices()\n"
   ]
  },
  {
   "cell_type": "code",
   "execution_count": null,
   "id": "e9dbf2f3-767c-401a-ace5-628544532f2a",
   "metadata": {},
   "outputs": [],
   "source": []
  },
  {
   "cell_type": "code",
   "execution_count": null,
   "id": "ec6a4f86-9c28-46aa-b7f6-d6dd43dd8045",
   "metadata": {},
   "outputs": [],
   "source": []
  }
 ],
 "metadata": {
  "kernelspec": {
   "display_name": "Python 3 (ipykernel)",
   "language": "python",
   "name": "python3"
  },
  "language_info": {
   "codemirror_mode": {
    "name": "ipython",
    "version": 3
   },
   "file_extension": ".py",
   "mimetype": "text/x-python",
   "name": "python",
   "nbconvert_exporter": "python",
   "pygments_lexer": "ipython3",
   "version": "3.12.7"
  }
 },
 "nbformat": 4,
 "nbformat_minor": 5
}
