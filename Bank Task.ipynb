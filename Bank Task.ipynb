{
 "cells": [
  {
   "cell_type": "code",
   "execution_count": 28,
   "id": "d5dacd91-fd73-47a9-92cd-c8c69456c53f",
   "metadata": {},
   "outputs": [],
   "source": [
    "bank = {\n",
    "    \"account_name\":\"Ahsan\",\n",
    "    \"account_number\":987654321\n",
    "}"
   ]
  },
  {
   "cell_type": "code",
   "execution_count": 32,
   "id": "156ae502-7c6c-41a9-a91a-e028a79c5c8e",
   "metadata": {},
   "outputs": [],
   "source": [
    "def transaction():\n",
    "    print(\"No transaction occured\")\n"
   ]
  },
  {
   "cell_type": "code",
   "execution_count": 34,
   "id": "5bbc0602-9101-4841-9941-ead98e095e84",
   "metadata": {},
   "outputs": [],
   "source": [
    "def balance():\n",
    "    print(\"Balance is rs 5000\")"
   ]
  },
  {
   "cell_type": "code",
   "execution_count": 36,
   "id": "ba525dc4-d454-4782-941e-126b92626dfc",
   "metadata": {},
   "outputs": [],
   "source": [
    "def Deposit():\n",
    "    print(\"Please write the amount you want to deposit\")"
   ]
  },
  {
   "cell_type": "code",
   "execution_count": 63,
   "id": "00466985-ea79-4d04-970b-30f340c6b6f2",
   "metadata": {},
   "outputs": [
    {
     "ename": "SyntaxError",
     "evalue": "invalid syntax (897953893.py, line 6)",
     "output_type": "error",
     "traceback": [
      "\u001b[1;36m  Cell \u001b[1;32mIn[63], line 6\u001b[1;36m\u001b[0m\n\u001b[1;33m    def\u001b[0m\n\u001b[1;37m        ^\u001b[0m\n\u001b[1;31mSyntaxError\u001b[0m\u001b[1;31m:\u001b[0m invalid syntax\n"
     ]
    }
   ],
   "source": [
    "class BankAccount:\n",
    "    def __init__(self,account_number,account_holder):\n",
    "        self.account_number =  account_number\n",
    "        self.account_holder =  account_number\n",
    "\n",
    "    def \n"
   ]
  },
  {
   "cell_type": "code",
   "execution_count": null,
   "id": "63a91072-c91e-417a-86c2-9485b47ae95e",
   "metadata": {},
   "outputs": [],
   "source": [
    "\n",
    "\n"
   ]
  },
  {
   "cell_type": "code",
   "execution_count": 61,
   "id": "c81c47bb-1f94-495f-8fe9-a2f13cd218a2",
   "metadata": {},
   "outputs": [
    {
     "data": {
      "text/plain": [
       "__main__.BankAccount"
      ]
     },
     "execution_count": 61,
     "metadata": {},
     "output_type": "execute_result"
    }
   ],
   "source": [
    "BankAccount"
   ]
  },
  {
   "cell_type": "code",
   "execution_count": null,
   "id": "70cb3837-1082-4a9b-9ce6-684624fe7371",
   "metadata": {},
   "outputs": [],
   "source": []
  },
  {
   "cell_type": "code",
   "execution_count": null,
   "id": "c8fd2d3a-a7cb-46c1-a191-c4af61c2cca3",
   "metadata": {},
   "outputs": [],
   "source": []
  },
  {
   "cell_type": "code",
   "execution_count": null,
   "id": "d930bdc6-4a49-4004-b619-759fb8603e1f",
   "metadata": {},
   "outputs": [],
   "source": []
  },
  {
   "cell_type": "code",
   "execution_count": null,
   "id": "c0f5d9c1-7d27-4b31-8d33-aeb16cf98ed6",
   "metadata": {},
   "outputs": [],
   "source": []
  },
  {
   "cell_type": "code",
   "execution_count": null,
   "id": "e2823d53-5a25-4ef5-8a9c-eae51ea03688",
   "metadata": {},
   "outputs": [],
   "source": []
  },
  {
   "cell_type": "code",
   "execution_count": null,
   "id": "1e7384df-3283-476c-a4e6-5188ad57ae8e",
   "metadata": {},
   "outputs": [],
   "source": []
  }
 ],
 "metadata": {
  "kernelspec": {
   "display_name": "Python 3 (ipykernel)",
   "language": "python",
   "name": "python3"
  },
  "language_info": {
   "codemirror_mode": {
    "name": "ipython",
    "version": 3
   },
   "file_extension": ".py",
   "mimetype": "text/x-python",
   "name": "python",
   "nbconvert_exporter": "python",
   "pygments_lexer": "ipython3",
   "version": "3.12.7"
  }
 },
 "nbformat": 4,
 "nbformat_minor": 5
}
