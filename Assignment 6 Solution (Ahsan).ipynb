{
 "cells": [
  {
   "cell_type": "markdown",
   "id": "5947dfd7-030c-46ab-a7f5-f57d4b43767e",
   "metadata": {},
   "source": [
    "# LIST ASSIGNMENT"
   ]
  },
  {
   "cell_type": "code",
   "execution_count": 2,
   "id": "14676dfe-e150-455a-9309-44c43af700f9",
   "metadata": {},
   "outputs": [
    {
     "name": "stdin",
     "output_type": "stream",
     "text": [
      "Enter a list of elements separated by spaces:   a s v g y g\n"
     ]
    },
    {
     "name": "stdout",
     "output_type": "stream",
     "text": [
      "Alternate elements of the list: ['a', 'v', 'y']\n"
     ]
    }
   ],
   "source": [
    "def alternate_elements():\n",
    "    user_list = input(\"Enter a list of elements separated by spaces: \").split()\n",
    "    print(\"Alternate elements of the list:\", user_list[::2])\n",
    "\n",
    "alternate_elements()\n"
   ]
  },
  {
   "cell_type": "code",
   "execution_count": 6,
   "id": "52b94a4b-65da-44b7-a515-a3e10dbc1184",
   "metadata": {},
   "outputs": [
    {
     "name": "stdin",
     "output_type": "stream",
     "text": [
      "Enter a list of elements separated by spaces:  a sd f g sd\n"
     ]
    },
    {
     "name": "stdout",
     "output_type": "stream",
     "text": [
      "Reversed list: ['sd', 'g', 'f', 'sd', 'a']\n"
     ]
    }
   ],
   "source": [
    "def reverse_list():\n",
    "    user_list = input(\"Enter a list of elements separated by spaces: \").split()\n",
    "    reversed_list = user_list[::-1]\n",
    "    print(\"Reversed list:\", reversed_list)\n",
    "\n",
    "reverse_list()\n"
   ]
  },
  {
   "cell_type": "code",
   "execution_count": 23,
   "id": "208ca3d3-34a8-4999-8e0c-f7d7f92f7004",
   "metadata": {},
   "outputs": [
    {
     "name": "stdin",
     "output_type": "stream",
     "text": [
      "Enter numbers separated by spaces:  1 3 57 7 \n"
     ]
    },
    {
     "name": "stdout",
     "output_type": "stream",
     "text": [
      "Largest number in the list: 57\n"
     ]
    }
   ],
   "source": [
    "def find_largest():\n",
    "    user_list = list(map(int, input(\"Enter numbers separated by spaces: \").split()))\n",
    "    largest = user_list[0]\n",
    "    for num in user_list:\n",
    "        if num > largest:\n",
    "            largest = num\n",
    "    print(\"Largest number in the list:\", largest)\n",
    "\n",
    "find_largest()\n"
   ]
  },
  {
   "cell_type": "code",
   "execution_count": 16,
   "id": "190ad74d-31eb-45a6-99f3-224ce1d52a23",
   "metadata": {},
   "outputs": [
    {
     "name": "stdin",
     "output_type": "stream",
     "text": [
      "Enter a list of elements separated by spaces:  s d\n"
     ]
    },
    {
     "name": "stdout",
     "output_type": "stream",
     "text": [
      "Rotated list: ['d', 's']\n"
     ]
    }
   ],
   "source": [
    "def rotate_list():\n",
    "    user_list = input(\"Enter a list of elements separated by spaces: \").split()\n",
    "    rotated_list = user_list[1:] + user_list[:1]\n",
    "    print(\"Rotated list:\", rotated_list)\n",
    "\n",
    "rotate_list()\n"
   ]
  },
  {
   "cell_type": "code",
   "execution_count": 19,
   "id": "ccb18a05-81bf-43b9-8902-fe3cbc4541f4",
   "metadata": {},
   "outputs": [
    {
     "name": "stdin",
     "output_type": "stream",
     "text": [
      "Enter a string:  s a e t x\n",
      "Enter the word to delete:  a\n"
     ]
    },
    {
     "name": "stdout",
     "output_type": "stream",
     "text": [
      "String after deletion: s  e t x\n"
     ]
    }
   ],
   "source": [
    "def delete_word():\n",
    "    user_string = input(\"Enter a string: \")\n",
    "    word_to_delete = input(\"Enter the word to delete: \")\n",
    "    modified_string = user_string.replace(word_to_delete, \"\").strip()\n",
    "    print(\"String after deletion:\", modified_string)\n",
    "\n",
    "delete_word()\n"
   ]
  },
  {
   "cell_type": "code",
   "execution_count": 25,
   "id": "ea615a47-c45d-4607-9942-b0dbe002208d",
   "metadata": {},
   "outputs": [
    {
     "name": "stdin",
     "output_type": "stream",
     "text": [
      "Enter a date in mm/dd/yyyy format:  9/3/2005\n"
     ]
    },
    {
     "name": "stdout",
     "output_type": "stream",
     "text": [
      "Formatted date: September 3, 2005\n"
     ]
    }
   ],
   "source": [
    "def reformat_date():\n",
    "    date_input = input(\"Enter a date in mm/dd/yyyy format: \")\n",
    "    month, day, year = date_input.split('/')\n",
    "    months = [\n",
    "        \"January\", \"February\", \"March\", \"April\", \"May\", \"June\",\n",
    "        \"July\", \"August\", \"September\", \"October\", \"November\", \"December\"\n",
    "    ]\n",
    "    print(f\"Formatted date: {months[int(month) - 1]} {int(day)}, {year}\")\n",
    "\n",
    "reformat_date()\n"
   ]
  },
  {
   "cell_type": "code",
   "execution_count": 27,
   "id": "99e796e4-04f9-499b-83ef-1f22105cb51d",
   "metadata": {},
   "outputs": [
    {
     "name": "stdin",
     "output_type": "stream",
     "text": [
      "Enter a sentence:  my name is ahsan\n"
     ]
    },
    {
     "name": "stdout",
     "output_type": "stream",
     "text": [
      "Capitalized sentence: My Name Is Ahsan\n"
     ]
    }
   ],
   "source": [
    "def capitalize_words():\n",
    "    user_string = input(\"Enter a sentence: \")\n",
    "    capitalized = ' '.join(word.capitalize() for word in user_string.split())\n",
    "    print(\"Capitalized sentence:\", capitalized)\n",
    "\n",
    "capitalize_words()\n",
    "\n"
   ]
  },
  {
   "cell_type": "code",
   "execution_count": 29,
   "id": "b1e043fa-d20f-463f-b524-d5e36ad9954e",
   "metadata": {},
   "outputs": [
    {
     "name": "stdin",
     "output_type": "stream",
     "text": [
      "Enter the number of rows:  4\n",
      "Enter elements of row 1 separated by spaces:  2\n",
      "Enter elements of row 2 separated by spaces:  2\n",
      "Enter elements of row 3 separated by spaces:  1\n",
      "Enter elements of row 4 separated by spaces:  1\n"
     ]
    },
    {
     "name": "stdout",
     "output_type": "stream",
     "text": [
      "Sum of row 1 = 2\n",
      "Sum of row 2 = 2\n",
      "Sum of row 3 = 1\n",
      "Sum of row 4 = 1\n"
     ]
    }
   ],
   "source": [
    "def sum_rows():\n",
    "    rows = int(input(\"Enter the number of rows: \"))\n",
    "    matrix = []\n",
    "    for i in range(rows):\n",
    "        row = list(map(int, input(f\"Enter elements of row {i + 1} separated by spaces: \").split()))\n",
    "        matrix.append(row)\n",
    "    for i, row in enumerate(matrix):\n",
    "        print(f\"Sum of row {i + 1} =\", sum(row))\n",
    "\n",
    "sum_rows()\n"
   ]
  },
  {
   "cell_type": "code",
   "execution_count": 48,
   "id": "cd8e9f8c-be8e-4b59-a0bb-8370fc4e0189",
   "metadata": {},
   "outputs": [
    {
     "name": "stdin",
     "output_type": "stream",
     "text": [
      "Enter number of rows and columns separated by space:  2 2 \n"
     ]
    },
    {
     "name": "stdout",
     "output_type": "stream",
     "text": [
      "Enter first matrix:\n"
     ]
    },
    {
     "name": "stdin",
     "output_type": "stream",
     "text": [
      " 1 2 3 4\n",
      " 1 2 3 4\n"
     ]
    },
    {
     "name": "stdout",
     "output_type": "stream",
     "text": [
      "Enter second matrix:\n"
     ]
    },
    {
     "name": "stdin",
     "output_type": "stream",
     "text": [
      " 2 2 \n",
      " 1 2\n"
     ]
    },
    {
     "name": "stdout",
     "output_type": "stream",
     "text": [
      "Sum of matrices:\n",
      "3 4\n",
      "2 4\n"
     ]
    }
   ],
   "source": [
    "def add_matrices():\n",
    "    rows, cols = map(int, input(\"Enter number of rows and columns separated by space: \").split())\n",
    "    print(\"Enter first matrix:\")\n",
    "    matrix1 = [[int(x) for x in input().split()] for _ in range(rows)]\n",
    "    print(\"Enter second matrix:\")\n",
    "    matrix2 = [[int(x) for x in input().split()] for _ in range(rows)]\n",
    "    result = [[matrix1[i][j] + matrix2[i][j] for j in range(cols)] for i in range(rows)]\n",
    "    print(\"Sum of matrices:\")\n",
    "    for row in result:\n",
    "        print(' '.join(map(str, row)))\n",
    "\n",
    "add_matrices()\n"
   ]
  },
  {
   "cell_type": "code",
   "execution_count": 43,
   "id": "e6f4b290-fd4d-47a2-a7da-0a6c92d5fc95",
   "metadata": {},
   "outputs": [
    {
     "name": "stdin",
     "output_type": "stream",
     "text": [
      "Enter rows and columns of first matrix:  2 2\n"
     ]
    },
    {
     "name": "stdout",
     "output_type": "stream",
     "text": [
      "Enter first matrix:\n"
     ]
    },
    {
     "name": "stdin",
     "output_type": "stream",
     "text": [
      " 1 2 3 4\n",
      " 1 2 3 4 \n",
      "Enter rows and columns of second matrix:  2 2 \n"
     ]
    },
    {
     "name": "stdout",
     "output_type": "stream",
     "text": [
      "Enter second matrix:\n"
     ]
    },
    {
     "name": "stdin",
     "output_type": "stream",
     "text": [
      " 1 2 3 4 \n",
      " 1 2 3 4\n"
     ]
    },
    {
     "name": "stdout",
     "output_type": "stream",
     "text": [
      "Product of matrices:\n",
      "3 6\n",
      "3 6\n"
     ]
    }
   ],
   "source": [
    "def multiply_matrices():\n",
    "    rows1, cols1 = map(int, input(\"Enter rows and columns of first matrix: \").split())\n",
    "    print(\"Enter first matrix:\")\n",
    "    matrix1 = [[int(x) for x in input().split()] for _ in range(rows1)]\n",
    "\n",
    "    rows2, cols2 = map(int, input(\"Enter rows and columns of second matrix: \").split())\n",
    "    print(\"Enter second matrix:\")\n",
    "    matrix2 = [[int(x) for x in input().split()] for _ in range(rows2)]\n",
    "\n",
    "    if cols1 != rows2:\n",
    "        print(\"Matrix multiplication is not possible with these dimensions.\")\n",
    "        return\n",
    "\n",
    "    result = [[sum(matrix1[i][k] * matrix2[k][j] for k in range(cols1)) for j in range(cols2)] for i in range(rows1)]\n",
    "    print(\"Product of matrices:\")\n",
    "    for row in result:\n",
    "        print(' '.join(map(str, row)))\n",
    "\n",
    "multiply_matrices()\n"
   ]
  },
  {
   "cell_type": "markdown",
   "id": "595711bf-2f22-4ec7-acac-b4ace5f101aa",
   "metadata": {},
   "source": [
    "# Conditional Structures Assignment"
   ]
  },
  {
   "cell_type": "code",
   "execution_count": 51,
   "id": "1475f9cf-e03b-4cd8-afbc-cda367497b9c",
   "metadata": {},
   "outputs": [
    {
     "name": "stdin",
     "output_type": "stream",
     "text": [
      "Enter a number:  4\n"
     ]
    },
    {
     "name": "stdout",
     "output_type": "stream",
     "text": [
      "Even\n"
     ]
    }
   ],
   "source": [
    "def even_or_odd():\n",
    "    num = int(input(\"Enter a number: \"))\n",
    "    if num % 2 == 0:\n",
    "        print(\"Even\")\n",
    "    else:\n",
    "        print(\"Odd\")\n",
    "\n",
    "even_or_odd()\n"
   ]
  },
  {
   "cell_type": "code",
   "execution_count": 53,
   "id": "337f80a1-56ec-4d89-b0e7-0b1b0b5752f9",
   "metadata": {},
   "outputs": [
    {
     "name": "stdin",
     "output_type": "stream",
     "text": [
      "Enter your age:  18\n"
     ]
    },
    {
     "name": "stdout",
     "output_type": "stream",
     "text": [
      "You are eligible to vote.\n"
     ]
    }
   ],
   "source": [
    "def voting_eligibility():\n",
    "    age = int(input(\"Enter your age: \"))\n",
    "    if age >= 18:\n",
    "        print(\"You are eligible to vote.\")\n",
    "    else:\n",
    "        print(\"You are not eligible to vote yet.\")\n",
    "\n",
    "voting_eligibility()\n"
   ]
  },
  {
   "cell_type": "code",
   "execution_count": 55,
   "id": "f5f81338-49dd-44bf-a336-d63522a988a8",
   "metadata": {},
   "outputs": [
    {
     "name": "stdin",
     "output_type": "stream",
     "text": [
      "Enter the first number:  4\n",
      "Enter the second number:  5\n"
     ]
    },
    {
     "name": "stdout",
     "output_type": "stream",
     "text": [
      "The largest number is 5\n"
     ]
    }
   ],
   "source": [
    "def largest_of_two():\n",
    "    num1 = int(input(\"Enter the first number: \"))\n",
    "    num2 = int(input(\"Enter the second number: \"))\n",
    "    if num1 > num2:\n",
    "        print(f\"The largest number is {num1}\")\n",
    "    else:\n",
    "        print(f\"The largest number is {num2}\")\n",
    "\n",
    "largest_of_two()\n"
   ]
  },
  {
   "cell_type": "code",
   "execution_count": 57,
   "id": "d01d2ce6-b3e5-41e2-8bb3-b3161abb2782",
   "metadata": {},
   "outputs": [
    {
     "name": "stdin",
     "output_type": "stream",
     "text": [
      "Enter a number:  7\n"
     ]
    },
    {
     "name": "stdout",
     "output_type": "stream",
     "text": [
      "Positive\n"
     ]
    }
   ],
   "source": [
    "def check_number():\n",
    "    num = float(input(\"Enter a number: \"))\n",
    "    if num > 0:\n",
    "        print(\"Positive\")\n",
    "    elif num < 0:\n",
    "        print(\"Negative\")\n",
    "    else:\n",
    "        print(\"Zero\")\n",
    "\n",
    "check_number()\n"
   ]
  },
  {
   "cell_type": "code",
   "execution_count": 59,
   "id": "554d29a8-5314-4d1d-b519-e9912488b7a5",
   "metadata": {},
   "outputs": [
    {
     "name": "stdin",
     "output_type": "stream",
     "text": [
      "Enter your age:  20\n"
     ]
    },
    {
     "name": "stdout",
     "output_type": "stream",
     "text": [
      "Adult\n"
     ]
    }
   ],
   "source": [
    "def age_group():\n",
    "    age = int(input(\"Enter your age: \"))\n",
    "    if 0 <= age <= 12:\n",
    "        print(\"Child\")\n",
    "    elif 13 <= age <= 19:\n",
    "        print(\"Teenager\")\n",
    "    elif 20 <= age <= 59:\n",
    "        print(\"Adult\")\n",
    "    else:\n",
    "        print(\"Senior Citizen\")\n",
    "\n",
    "age_group()\n"
   ]
  },
  {
   "cell_type": "code",
   "execution_count": 61,
   "id": "069d1f74-8f6e-490f-a5ad-848673049e20",
   "metadata": {},
   "outputs": [
    {
     "name": "stdin",
     "output_type": "stream",
     "text": [
      "Enter a number (1-7):  4\n"
     ]
    },
    {
     "name": "stdout",
     "output_type": "stream",
     "text": [
      "Wednesday\n"
     ]
    }
   ],
   "source": [
    "def day_of_week():\n",
    "    day_num = int(input(\"Enter a number (1-7): \"))\n",
    "    days = {\n",
    "        1: \"Sunday\", 2: \"Monday\", 3: \"Tuesday\",\n",
    "        4: \"Wednesday\", 5: \"Thursday\",\n",
    "        6: \"Friday\", 7: \"Saturday\"\n",
    "    }\n",
    "    print(days.get(day_num, \"Error: Invalid number. Please enter a number between 1 and 7.\"))\n",
    "\n",
    "day_of_week()\n"
   ]
  },
  {
   "cell_type": "code",
   "execution_count": 63,
   "id": "96db8a01-260a-4303-9b7f-0582e35533be",
   "metadata": {},
   "outputs": [
    {
     "name": "stdin",
     "output_type": "stream",
     "text": [
      "Enter your weight (kg):  60\n",
      "Enter your height (m):  4\n"
     ]
    },
    {
     "name": "stdout",
     "output_type": "stream",
     "text": [
      "Underweight\n"
     ]
    }
   ],
   "source": [
    "def bmi_calculator():\n",
    "    weight = float(input(\"Enter your weight (kg): \"))\n",
    "    height = float(input(\"Enter your height (m): \"))\n",
    "    bmi = weight / (height ** 2)\n",
    "    if bmi < 18.5:\n",
    "        print(\"Underweight\")\n",
    "    elif 18.5 <= bmi < 24.9:\n",
    "        print(\"Normal weight\")\n",
    "    elif 25 <= bmi < 29.9:\n",
    "        print(\"Overweight\")\n",
    "    else:\n",
    "        print(\"Obesity\")\n",
    "\n",
    "bmi_calculator()\n"
   ]
  },
  {
   "cell_type": "code",
   "execution_count": 65,
   "id": "3844c5ec-3929-4cbb-af3f-3097cf0a5471",
   "metadata": {},
   "outputs": [
    {
     "name": "stdin",
     "output_type": "stream",
     "text": [
      "Enter marks for subject 1:  50\n",
      "Enter marks for subject 2:  60\n",
      "Enter marks for subject 3:  40\n"
     ]
    },
    {
     "name": "stdout",
     "output_type": "stream",
     "text": [
      "Average: 50.00, Grade: F\n"
     ]
    }
   ],
   "source": [
    "def calculate_grade():\n",
    "    marks = [float(input(f\"Enter marks for subject {i+1}: \")) for i in range(3)]\n",
    "    average = sum(marks) / len(marks)\n",
    "    if 90 <= average <= 100:\n",
    "        grade = \"A\"\n",
    "    elif 80 <= average < 90:\n",
    "        grade = \"B\"\n",
    "    elif 70 <= average < 80:\n",
    "        grade = \"C\"\n",
    "    elif 60 <= average < 70:\n",
    "        grade = \"D\"\n",
    "    else:\n",
    "        grade = \"F\"\n",
    "    print(f\"Average: {average:.2f}, Grade: {grade}\")\n",
    "\n",
    "calculate_grade()\n"
   ]
  },
  {
   "cell_type": "code",
   "execution_count": 67,
   "id": "b8c100b4-387a-4b83-b194-4f01fb011769",
   "metadata": {},
   "outputs": [
    {
     "name": "stdin",
     "output_type": "stream",
     "text": [
      "Enter coefficient a:  4\n",
      "Enter coefficient b:  5\n",
      "Enter coefficient c:  8\n"
     ]
    },
    {
     "name": "stdout",
     "output_type": "stream",
     "text": [
      "Roots are complex: -0.625 + 1.2686114456365274i, -0.625 - 1.2686114456365274i\n"
     ]
    }
   ],
   "source": [
    "import math\n",
    "\n",
    "def quadratic_roots():\n",
    "    a = float(input(\"Enter coefficient a: \"))\n",
    "    b = float(input(\"Enter coefficient b: \"))\n",
    "    c = float(input(\"Enter coefficient c: \"))\n",
    "    discriminant = b ** 2 - 4 * a * c\n",
    "    if discriminant > 0:\n",
    "        root1 = (-b + math.sqrt(discriminant)) / (2 * a)\n",
    "        root2 = (-b - math.sqrt(discriminant)) / (2 * a)\n",
    "        print(f\"Roots are real and different: {root1}, {root2}\")\n",
    "    elif discriminant == 0:\n",
    "        root = -b / (2 * a)\n",
    "        print(f\"Roots are real and equal: {root}\")\n",
    "    else:\n",
    "        real = -b / (2 * a)\n",
    "        imaginary = math.sqrt(-discriminant) / (2 * a)\n",
    "        print(f\"Roots are complex: {real} + {imaginary}i, {real} - {imaginary}i\")\n",
    "\n",
    "quadratic_roots()\n"
   ]
  },
  {
   "cell_type": "code",
   "execution_count": 71,
   "id": "1277499d-27b6-4ffd-a36b-17f5799180bf",
   "metadata": {},
   "outputs": [
    {
     "name": "stdin",
     "output_type": "stream",
     "text": [
      "Enter three numbers separated by spaces:  8 7 3\n"
     ]
    },
    {
     "name": "stdout",
     "output_type": "stream",
     "text": [
      "Sorted numbers: [3, 7, 8]\n"
     ]
    }
   ],
   "source": [
    "def sort_three_numbers():\n",
    "    nums = list(map(int, input(\"Enter three numbers separated by spaces: \").split()))\n",
    "    nums.sort()\n",
    "    print(\"Sorted numbers:\", nums)\n",
    "\n",
    "sort_three_numbers()\n"
   ]
  },
  {
   "cell_type": "code",
   "execution_count": 73,
   "id": "82b5288c-d7b9-4d1b-99e8-127d54be0539",
   "metadata": {},
   "outputs": [
    {
     "name": "stdin",
     "output_type": "stream",
     "text": [
      "Enter three integers separated by spaces:  7 5 4 \n"
     ]
    },
    {
     "name": "stdout",
     "output_type": "stream",
     "text": [
      "Largest number is: 7\n"
     ]
    }
   ],
   "source": [
    "def largest_of_three():\n",
    "    nums = list(map(int, input(\"Enter three integers separated by spaces: \").split()))\n",
    "    print(\"Largest number is:\", max(nums))\n",
    "\n",
    "largest_of_three()\n"
   ]
  },
  {
   "cell_type": "code",
   "execution_count": 79,
   "id": "4ee5fdbe-11f5-43c7-a43d-46925ebb75e9",
   "metadata": {},
   "outputs": [
    {
     "name": "stdin",
     "output_type": "stream",
     "text": [
      "Enter a single character:  j\n"
     ]
    },
    {
     "name": "stdout",
     "output_type": "stream",
     "text": [
      "Consonant\n"
     ]
    }
   ],
   "source": [
    "def vowel_or_consonant():\n",
    "    char = input(\"Enter a single character: \").lower()\n",
    "    if char in \"aeiou\":\n",
    "        print(\"Vowel\")\n",
    "    elif char.isalpha():\n",
    "        print(\"Consonant\")\n",
    "    else:\n",
    "        print(\"Invalid input\")\n",
    "\n",
    "vowel_or_consonant()\n"
   ]
  },
  {
   "cell_type": "code",
   "execution_count": 81,
   "id": "7aaff33e-d5a8-4d2d-8def-4b487bd684e4",
   "metadata": {},
   "outputs": [
    {
     "name": "stdin",
     "output_type": "stream",
     "text": [
      "Enter a year:  2004\n"
     ]
    },
    {
     "name": "stdout",
     "output_type": "stream",
     "text": [
      "2004 is a Leap Year\n"
     ]
    }
   ],
   "source": [
    "def is_leap_year():\n",
    "    year = int(input(\"Enter a year: \"))\n",
    "    if (year % 4 == 0 and year % 100 != 0) or (year % 400 == 0):\n",
    "        print(f\"{year} is a Leap Year\")\n",
    "    else:\n",
    "        print(f\"{year} is NOT a Leap Year\")\n",
    "\n",
    "is_leap_year()\n"
   ]
  },
  {
   "cell_type": "code",
   "execution_count": 83,
   "id": "8d4ea15e-98db-40f2-9224-8d1ecab633c9",
   "metadata": {},
   "outputs": [
    {
     "name": "stdin",
     "output_type": "stream",
     "text": [
      "Enter the number of calls:  8\n"
     ]
    },
    {
     "name": "stdout",
     "output_type": "stream",
     "text": [
      "Your total bill is: Rs. 200.00\n"
     ]
    }
   ],
   "source": [
    "def telephone_bill():\n",
    "    calls = int(input(\"Enter the number of calls: \"))\n",
    "    if calls <= 100:\n",
    "        bill = 200\n",
    "    elif calls <= 150:\n",
    "        bill = 200 + (calls - 100) * 0.60\n",
    "    elif calls <= 200:\n",
    "        bill = 200 + 50 * 0.60 + (calls - 150) * 0.50\n",
    "    else:\n",
    "        bill = 200 + 50 * 0.60 + 50 * 0.50 + (calls - 200) * 0.40\n",
    "    print(f\"Your total bill is: Rs. {bill:.2f}\")\n",
    "\n",
    "telephone_bill()\n"
   ]
  },
  {
   "cell_type": "markdown",
   "id": "d13f08a7-8e63-4a04-bd80-57599a3f2cf2",
   "metadata": {},
   "source": [
    "#  Loops Assignment"
   ]
  },
  {
   "cell_type": "code",
   "execution_count": null,
   "id": "a5144d44-bdee-4d59-bd00-51d510615285",
   "metadata": {},
   "outputs": [],
   "source": [
    "def print_1_to_10():\n",
    "    for i in range(1, 11):\n",
    "        print(i, end=\" \")\n",
    "\n",
    "print_1_to_10()\n"
   ]
  },
  {
   "cell_type": "code",
   "execution_count": null,
   "id": "8b88c404-c99c-401b-ac90-f88507a73185",
   "metadata": {},
   "outputs": [],
   "source": [
    "def print_20_to_1():\n",
    "    num = 20\n",
    "    while num >= 1:\n",
    "        print(num, end=\" \")\n",
    "        num -= 1\n",
    "\n",
    "print_20_to_1()\n"
   ]
  },
  {
   "cell_type": "code",
   "execution_count": null,
   "id": "6dd8d891-6ba5-47e4-abf8-07138158d0a5",
   "metadata": {},
   "outputs": [],
   "source": [
    "def print_even():\n",
    "    for i in range(1, 11):\n",
    "        if i % 2 == 0:\n",
    "            print(i, end=\" \")\n",
    "\n",
    "print_even()\n"
   ]
  },
  {
   "cell_type": "code",
   "execution_count": null,
   "id": "5775f769-6e3a-4e09-9838-d6a417a1dc4a",
   "metadata": {},
   "outputs": [],
   "source": [
    "def print_1_to_n():\n",
    "    n = int(input(\"Enter a number: \"))\n",
    "    for i in range(1, n + 1):\n",
    "        print(i, end=\" \")\n",
    "\n",
    "print_1_to_n()\n"
   ]
  },
  {
   "cell_type": "code",
   "execution_count": null,
   "id": "01acfe47-83a5-41b7-ae61-dec0b5b36e06",
   "metadata": {},
   "outputs": [],
   "source": [
    "def print_odd_to_n():\n",
    "    n = int(input(\"Enter a number: \"))\n",
    "    for i in range(1, n + 1, 2):\n",
    "        print(i, end=\" \")\n",
    "\n",
    "print_odd_to_n()\n"
   ]
  },
  {
   "cell_type": "code",
   "execution_count": null,
   "id": "f82bea73-8308-400d-8798-de16a401955e",
   "metadata": {},
   "outputs": [],
   "source": [
    "def happy_birthday():\n",
    "    for _ in range(5):\n",
    "        print(\"Happy Birthday!\")\n",
    "\n",
    "happy_birthday()\n"
   ]
  },
  {
   "cell_type": "code",
   "execution_count": null,
   "id": "36caf9d7-b93e-4898-b82f-74a48644de8b",
   "metadata": {},
   "outputs": [],
   "source": [
    "def generate_square_series():\n",
    "    n = int(input(\"Enter a number: \"))\n",
    "    print(\"The first\", n, \"terms of the series are:\", end=\" \")\n",
    "    for i in range(1, n + 1):\n",
    "        print(i ** 2, end=\" \")\n",
    "\n",
    "generate_square_series()\n"
   ]
  },
  {
   "cell_type": "code",
   "execution_count": null,
   "id": "f027905b-0ded-43ac-bc04-4b0eb7c4b29d",
   "metadata": {},
   "outputs": [],
   "source": [
    "def multiplication_table():\n",
    "    num = int(input(\"Enter a number: \"))\n",
    "    for i in range(1, 11):\n",
    "        print(f\"{num} x {i} = {num * i}\")\n",
    "\n",
    "multiplication_table()\n"
   ]
  },
  {
   "cell_type": "code",
   "execution_count": null,
   "id": "30c02d1d-bd22-4138-80d2-61a67d93f053",
   "metadata": {},
   "outputs": [],
   "source": [
    "def arithmetic_progression():\n",
    "    a, d = 3, 4\n",
    "    for i in range(8):\n",
    "        print(a + i * d, end=\" \")\n",
    "\n",
    "arithmetic_progression()\n"
   ]
  },
  {
   "cell_type": "code",
   "execution_count": null,
   "id": "68aa4bbb-eaf4-4fc9-9163-8d5047974d8a",
   "metadata": {},
   "outputs": [],
   "source": [
    "def sum_of_integers():\n",
    "    n = int(input(\"Enter a positive integer: \"))\n",
    "    total = sum(range(1, n + 1))\n",
    "    print(\"The sum of numbers from 1 to\", n, \"is:\", total)\n",
    "\n",
    "sum_of_integers()\n"
   ]
  },
  {
   "cell_type": "code",
   "execution_count": null,
   "id": "fd091e68-13b7-43fe-93bb-6eedea4a2e04",
   "metadata": {},
   "outputs": [],
   "source": [
    "def sum_of_reciprocals():\n",
    "    n = int(input(\"Enter a positive integer: \"))\n",
    "    total = sum(1 / i for i in range(1, n + 1))\n",
    "    print(f\"The sum of reciprocals from 1 to {n} is: {total:.2f}\")\n",
    "\n",
    "sum_of_reciprocals()\n"
   ]
  },
  {
   "cell_type": "code",
   "execution_count": null,
   "id": "dd437062-df81-49b0-8626-784a3bcd4047",
   "metadata": {},
   "outputs": [],
   "source": [
    "def accumulate_numbers():\n",
    "    total = 0\n",
    "    for _ in range(5):\n",
    "        num = float(input(\"Enter a number: \"))\n",
    "        total += num\n",
    "    print(\"The final running total is:\", total)\n",
    "\n",
    "accumulate_numbers()\n"
   ]
  },
  {
   "cell_type": "code",
   "execution_count": null,
   "id": "b9505dd3-13f3-4d31-a1f8-d4db7ea127cf",
   "metadata": {},
   "outputs": [],
   "source": [
    "def factorial():\n",
    "    n = int(input(\"Enter a positive integer: \"))\n",
    "    if n < 0:\n",
    "        print(\"Factorial does not exist for negative numbers.\")\n",
    "    elif n == 0:\n",
    "        print(\"The factorial of 0 is 1.\")\n",
    "    else:\n",
    "        fact = 1\n",
    "        for i in range(1, n + 1):\n",
    "            fact *= i\n",
    "        print(f\"The factorial of {n} is {fact}.\")\n",
    "\n",
    "factorial()\n"
   ]
  },
  {
   "cell_type": "code",
   "execution_count": null,
   "id": "a415f47a-7626-4292-ac2a-47286c6827d5",
   "metadata": {},
   "outputs": [],
   "source": [
    "def calculate_power():\n",
    "    base = float(input(\"Enter the base: \"))\n",
    "    exp = int(input(\"Enter the exponent: \"))\n",
    "    result = 1\n",
    "    if exp > 0:\n",
    "        for _ in range(exp):\n",
    "            result *= base\n",
    "    elif exp < 0:\n",
    "        for _ in range(-exp):\n",
    "            result /= base\n",
    "    print(f\"The result of {base} to the power of {exp} is: {result}\")\n",
    "\n",
    "calculate_power()\n"
   ]
  },
  {
   "cell_type": "markdown",
   "id": "8e02dff4-926b-4c4c-91dd-162bc234935d",
   "metadata": {},
   "source": [
    "# Strings Assignments"
   ]
  },
  {
   "cell_type": "code",
   "execution_count": null,
   "id": "97739322-0840-437a-ad6a-25452158d402",
   "metadata": {},
   "outputs": [],
   "source": [
    "def count_vowels():\n",
    "    string = input(\"Enter a string: \")\n",
    "    vowels = \"aeiouAEIOU\"\n",
    "    count = sum(1 for char in string if char in vowels)\n",
    "    print(f\"Number of vowels in the string: {count}\")\n",
    "\n",
    "count_vowels()\n"
   ]
  },
  {
   "cell_type": "code",
   "execution_count": null,
   "id": "544e4317-a2b0-4385-bd99-1f4720023a05",
   "metadata": {},
   "outputs": [],
   "source": [
    "def string_character_count():\n",
    "    string = input(\"Enter a string: \")\n",
    "    uppercase = sum(1 for char in string if char.isupper())\n",
    "    lowercase = sum(1 for char in string if char.islower())\n",
    "    digits = sum(1 for char in string if char.isdigit())\n",
    "    whitespaces = sum(1 for char in string if char.isspace())\n",
    "    print(f\"Uppercase letters: {uppercase}\")\n",
    "    print(f\"Lowercase letters: {lowercase}\")\n",
    "    print(f\"Digits: {digits}\")\n",
    "    print(f\"Whitespace characters: {whitespaces}\")\n",
    "\n",
    "string_character_count()\n"
   ]
  },
  {
   "cell_type": "code",
   "execution_count": null,
   "id": "b4faba89-0e57-4c9d-96b0-93c7621abf0a",
   "metadata": {},
   "outputs": [],
   "source": [
    "def exchange_first_last():\n",
    "    string = input(\"Enter a string: \")\n",
    "    if len(string) < 2:\n",
    "        print(\"New string:\", string)\n",
    "    else:\n",
    "        new_string = string[-1] + string[1:-1] + string[0]\n",
    "        print(\"New string:\", new_string)\n",
    "\n",
    "exchange_first_last()\n"
   ]
  },
  {
   "cell_type": "code",
   "execution_count": null,
   "id": "08969a69-e123-461e-b714-bf6ae45b5a2c",
   "metadata": {},
   "outputs": [],
   "source": [
    "def reverse_string():\n",
    "    string = input(\"Enter a string: \")\n",
    "    reversed_string = string[::-1]\n",
    "    print(\"Reversed string:\", reversed_string)\n",
    "\n",
    "reverse_string()\n"
   ]
  },
  {
   "cell_type": "code",
   "execution_count": null,
   "id": "ce7f9f0b-4c15-4e7b-8125-6b8949a56cdf",
   "metadata": {},
   "outputs": [],
   "source": [
    "def shift_left():\n",
    "    string = input(\"Enter a string: \")\n",
    "    if len(string) > 0:\n",
    "        new_string = string[1:] + string[0]\n",
    "        print(\"Shifted string:\", new_string)\n",
    "    else:\n",
    "        print(\"Empty string.\")\n",
    "\n",
    "shift_left()\n"
   ]
  },
  {
   "cell_type": "code",
   "execution_count": null,
   "id": "4990db2c-9b52-4b03-9e3b-cd107bc82c5a",
   "metadata": {},
   "outputs": [],
   "source": [
    "def print_initials():\n",
    "    name = input(\"Enter your full name: \")\n",
    "    initials = \"\"\n",
    "    for char in name:\n",
    "        if initials == \"\" or initials[-1] == \" \":\n",
    "            initials += char.upper() + \". \"\n",
    "    print(\"Initials:\", initials.strip())\n",
    "\n",
    "print_initials()\n"
   ]
  },
  {
   "cell_type": "code",
   "execution_count": null,
   "id": "903b39a4-bb4e-418e-8f3d-f757700bd84b",
   "metadata": {},
   "outputs": [],
   "source": [
    "def is_palindrome():\n",
    "    string = input(\"Enter a string: \")\n",
    "    cleaned_string = ''.join(char.lower() for char in string if char.isalnum())\n",
    "    if cleaned_string == cleaned_string[::-1]:\n",
    "        print(\"The string is a palindrome.\")\n",
    "    else:\n",
    "        print(\"The string is not a palindrome.\")\n",
    "\n",
    "is_palindrome()\n"
   ]
  },
  {
   "cell_type": "code",
   "execution_count": null,
   "id": "d2cc3dbd-112e-4d18-9ebc-e6d075e56335",
   "metadata": {},
   "outputs": [],
   "source": [
    "def shifting_pattern():\n",
    "    string = \"SHIFT\"\n",
    "    length = len(string)\n",
    "    for i in range(length):\n",
    "        print(string[i:] + string[:i])\n",
    "\n",
    "shifting_pattern()\n"
   ]
  },
  {
   "cell_type": "code",
   "execution_count": null,
   "id": "5993efde-9dae-4c28-bebe-c03782052a64",
   "metadata": {},
   "outputs": [],
   "source": [
    "def validate_password():\n",
    "    password = input(\"Enter a password: \")\n",
    "    if (len(password) >= 8 and\n",
    "        any(char.isupper() for char in password) and\n",
    "        any(char.islower() for char in password) and\n",
    "        any(char.isdigit() for char in password)):\n",
    "        print(\"Password is valid.\")\n",
    "    else:\n",
    "        print(\"Password is invalid. Make sure it meets the requirements.\")\n",
    "\n",
    "validate_password()\n"
   ]
  },
  {
   "cell_type": "code",
   "execution_count": null,
   "id": "760c22a3-d0bc-4b8f-a49d-2fda422b5a15",
   "metadata": {},
   "outputs": [],
   "source": []
  },
  {
   "cell_type": "code",
   "execution_count": null,
   "id": "a893d973-cad0-46b1-bfe3-de92c3e87a6c",
   "metadata": {},
   "outputs": [],
   "source": []
  },
  {
   "cell_type": "code",
   "execution_count": null,
   "id": "3332adf4-addd-4ca6-94e0-3b7ede3391c1",
   "metadata": {},
   "outputs": [],
   "source": []
  },
  {
   "cell_type": "code",
   "execution_count": null,
   "id": "3a3ae783-238b-48bc-be5d-3f52fc92b113",
   "metadata": {},
   "outputs": [],
   "source": []
  },
  {
   "cell_type": "code",
   "execution_count": null,
   "id": "9037fece-0a77-4784-b015-b11be5e0c06c",
   "metadata": {},
   "outputs": [],
   "source": []
  },
  {
   "cell_type": "code",
   "execution_count": null,
   "id": "cb149e25-7658-4011-babe-8cbf33f14c6e",
   "metadata": {},
   "outputs": [],
   "source": []
  },
  {
   "cell_type": "code",
   "execution_count": null,
   "id": "7e9b9c32-3eac-49db-bdc5-a222ec911088",
   "metadata": {},
   "outputs": [],
   "source": []
  },
  {
   "cell_type": "code",
   "execution_count": null,
   "id": "e531484b-fa94-4bf8-a6aa-6380ca1c0c09",
   "metadata": {},
   "outputs": [],
   "source": []
  }
 ],
 "metadata": {
  "kernelspec": {
   "display_name": "Python 3 (ipykernel)",
   "language": "python",
   "name": "python3"
  },
  "language_info": {
   "codemirror_mode": {
    "name": "ipython",
    "version": 3
   },
   "file_extension": ".py",
   "mimetype": "text/x-python",
   "name": "python",
   "nbconvert_exporter": "python",
   "pygments_lexer": "ipython3",
   "version": "3.12.7"
  }
 },
 "nbformat": 4,
 "nbformat_minor": 5
}
